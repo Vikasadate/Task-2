{
  "cells": [
    {
      "cell_type": "markdown",
      "metadata": {
        "id": "Vnz6eGGY9l7D"
      },
      "source": [
        "# Numpy\n",
        "\n"
      ]
    },
    {
      "cell_type": "markdown",
      "metadata": {
        "id": "EDZj-DxD9l7G"
      },
      "source": [
        "#### 1. Import the numpy package under the name `np` (★☆☆) \n",
        "(**hint**: import … as …)"
      ]
    },
    {
      "cell_type": "code",
      "execution_count": null,
      "metadata": {
        "collapsed": true,
        "id": "ZK7D8LUx9l7R"
      },
      "outputs": [],
      "source": [
        "import numpy as np"
      ]
    },
    {
      "cell_type": "markdown",
      "metadata": {
        "id": "jAnNR8zQ9l7S"
      },
      "source": [
        "#### 2. Print the numpy version and the configuration (★☆☆) \n",
        "(**hint**: np.\\_\\_version\\_\\_, np.show\\_config)"
      ]
    },
    {
      "cell_type": "code",
      "execution_count": null,
      "metadata": {
        "id": "etIkQHOw9l7S",
        "colab": {
          "base_uri": "https://localhost:8080/"
        },
        "outputId": "ad66ceb9-5743-42e6-cd94-a6aa947d63bc"
      },
      "outputs": [
        {
          "output_type": "stream",
          "name": "stdout",
          "text": [
            "1.21.6\n",
            "<function show at 0x7f62a8682830>\n"
          ]
        }
      ],
      "source": [
        "print(np.__version__)\n",
        "print(np.show_config)"
      ]
    },
    {
      "cell_type": "markdown",
      "metadata": {
        "id": "OFX9VkXr9l7T"
      },
      "source": [
        "#### 3. Create a null vector of size 10 (★☆☆) \n",
        "(**hint**: np.zeros)"
      ]
    },
    {
      "cell_type": "code",
      "execution_count": null,
      "metadata": {
        "id": "GPHfDTwp9l7T",
        "colab": {
          "base_uri": "https://localhost:8080/"
        },
        "outputId": "d7c56237-fd78-4254-cd42-ed00123a2c46"
      },
      "outputs": [
        {
          "output_type": "stream",
          "name": "stdout",
          "text": [
            "[0. 0. 0. 0. 0. 0. 0. 0. 0. 0.]\n"
          ]
        }
      ],
      "source": [
        "n1=np.zeros(10)\n",
        "print(n1)"
      ]
    },
    {
      "cell_type": "markdown",
      "metadata": {
        "id": "Zzf8Pb6g9l7U"
      },
      "source": [
        "#### 4.  How to find the memory size of any array (★☆☆) \n",
        "(**hint**: size, itemsize)"
      ]
    },
    {
      "cell_type": "code",
      "execution_count": null,
      "metadata": {
        "id": "d5cr1oXs9l7U",
        "colab": {
          "base_uri": "https://localhost:8080/"
        },
        "outputId": "d0748fd3-80e6-43b6-b0c0-48e323205634"
      },
      "outputs": [
        {
          "output_type": "stream",
          "name": "stdout",
          "text": [
            "128 bytes\n"
          ]
        }
      ],
      "source": [
        "import numpy as np\n",
        "n=np.zeros((4,4))\n",
        "print(\"%d bytes\" % (n.size *n.itemsize))"
      ]
    },
    {
      "cell_type": "markdown",
      "metadata": {
        "id": "A3bWg4uF9l7U"
      },
      "source": [
        "#### 5.  How to get the documentation of the numpy add function from the command line? (★☆☆) \n",
        "(**hint**: np.info)"
      ]
    },
    {
      "cell_type": "code",
      "execution_count": null,
      "metadata": {
        "collapsed": true,
        "id": "-ZACmIrQ9l7V",
        "colab": {
          "base_uri": "https://localhost:8080/"
        },
        "outputId": "56948eb5-1ebf-45c2-dc0d-96e972f85b98"
      },
      "outputs": [
        {
          "output_type": "stream",
          "name": "stdout",
          "text": [
            "add(x1, x2, /, out=None, *, where=True, casting='same_kind', order='K', dtype=None, subok=True[, signature, extobj])\n",
            "\n",
            "Add arguments element-wise.\n",
            "\n",
            "Parameters\n",
            "----------\n",
            "x1, x2 : array_like\n",
            "    The arrays to be added.\n",
            "    If ``x1.shape != x2.shape``, they must be broadcastable to a common\n",
            "    shape (which becomes the shape of the output).\n",
            "out : ndarray, None, or tuple of ndarray and None, optional\n",
            "    A location into which the result is stored. If provided, it must have\n",
            "    a shape that the inputs broadcast to. If not provided or None,\n",
            "    a freshly-allocated array is returned. A tuple (possible only as a\n",
            "    keyword argument) must have length equal to the number of outputs.\n",
            "where : array_like, optional\n",
            "    This condition is broadcast over the input. At locations where the\n",
            "    condition is True, the `out` array will be set to the ufunc result.\n",
            "    Elsewhere, the `out` array will retain its original value.\n",
            "    Note that if an uninitialized `out` array is created via the default\n",
            "    ``out=None``, locations within it where the condition is False will\n",
            "    remain uninitialized.\n",
            "**kwargs\n",
            "    For other keyword-only arguments, see the\n",
            "    :ref:`ufunc docs <ufuncs.kwargs>`.\n",
            "\n",
            "Returns\n",
            "-------\n",
            "add : ndarray or scalar\n",
            "    The sum of `x1` and `x2`, element-wise.\n",
            "    This is a scalar if both `x1` and `x2` are scalars.\n",
            "\n",
            "Notes\n",
            "-----\n",
            "Equivalent to `x1` + `x2` in terms of array broadcasting.\n",
            "\n",
            "Examples\n",
            "--------\n",
            ">>> np.add(1.0, 4.0)\n",
            "5.0\n",
            ">>> x1 = np.arange(9.0).reshape((3, 3))\n",
            ">>> x2 = np.arange(3.0)\n",
            ">>> np.add(x1, x2)\n",
            "array([[  0.,   2.,   4.],\n",
            "       [  3.,   5.,   7.],\n",
            "       [  6.,   8.,  10.]])\n",
            "\n",
            "The ``+`` operator can be used as a shorthand for ``np.add`` on ndarrays.\n",
            "\n",
            ">>> x1 = np.arange(9.0).reshape((3, 3))\n",
            ">>> x2 = np.arange(3.0)\n",
            ">>> x1 + x2\n",
            "array([[ 0.,  2.,  4.],\n",
            "       [ 3.,  5.,  7.],\n",
            "       [ 6.,  8., 10.]])\n",
            "None\n"
          ]
        }
      ],
      "source": [
        "print(np.info(np.add))"
      ]
    },
    {
      "cell_type": "markdown",
      "metadata": {
        "id": "Yp6NRaSM9l7V"
      },
      "source": [
        "#### 6.  Create a null vector of size 10 but the fifth value which is 1 (★☆☆) \n",
        "(**hint**: array\\[4\\])"
      ]
    },
    {
      "cell_type": "code",
      "execution_count": null,
      "metadata": {
        "id": "I2MDgcn29l7W",
        "colab": {
          "base_uri": "https://localhost:8080/"
        },
        "outputId": "18413c74-60b1-48d7-b2f2-3ff5df08a6f2"
      },
      "outputs": [
        {
          "output_type": "stream",
          "name": "stdout",
          "text": [
            "[[0. 0. 0. 0. 0. 0. 0. 0. 0. 0.]\n",
            " [0. 0. 0. 0. 0. 0. 0. 0. 0. 0.]\n",
            " [0. 0. 0. 0. 0. 0. 0. 0. 0. 0.]\n",
            " [0. 0. 0. 0. 0. 0. 0. 0. 0. 0.]\n",
            " [0. 0. 0. 0. 0. 0. 0. 0. 0. 0.]\n",
            " [0. 0. 0. 0. 0. 0. 0. 0. 0. 0.]\n",
            " [0. 0. 0. 0. 0. 0. 0. 0. 0. 0.]\n",
            " [0. 0. 0. 0. 0. 0. 0. 0. 0. 0.]\n",
            " [0. 0. 0. 0. 0. 0. 0. 0. 0. 0.]\n",
            " [0. 0. 0. 0. 0. 0. 0. 0. 0. 0.]]\n",
            "[[0. 0. 0. 0. 0. 0. 0. 0. 0. 0.]\n",
            " [0. 0. 0. 0. 0. 0. 0. 0. 0. 0.]\n",
            " [0. 0. 0. 0. 0. 0. 0. 0. 0. 0.]\n",
            " [0. 0. 0. 0. 0. 0. 0. 0. 0. 0.]\n",
            " [1. 1. 1. 1. 1. 1. 1. 1. 1. 1.]\n",
            " [0. 0. 0. 0. 0. 0. 0. 0. 0. 0.]\n",
            " [0. 0. 0. 0. 0. 0. 0. 0. 0. 0.]\n",
            " [0. 0. 0. 0. 0. 0. 0. 0. 0. 0.]\n",
            " [0. 0. 0. 0. 0. 0. 0. 0. 0. 0.]\n",
            " [0. 0. 0. 0. 0. 0. 0. 0. 0. 0.]]\n"
          ]
        }
      ],
      "source": [
        "import numpy as np\n",
        "n=np.zeros((10,10))\n",
        "print(n)\n",
        "n[4]=1\n",
        "print(n)"
      ]
    },
    {
      "cell_type": "markdown",
      "metadata": {
        "id": "aoDgII3t9l7W"
      },
      "source": [
        "#### 7.  Create a vector with values ranging from 10 to 49 (★☆☆) \n",
        "(**hint**: np.arange)"
      ]
    },
    {
      "cell_type": "code",
      "execution_count": null,
      "metadata": {
        "id": "fAaOkA4W9l7X",
        "colab": {
          "base_uri": "https://localhost:8080/"
        },
        "outputId": "8f729b41-a987-4269-e0a5-c34649ea1899"
      },
      "outputs": [
        {
          "output_type": "stream",
          "name": "stdout",
          "text": [
            "[10 11 12 13 14 15 16 17 18 19 20 21 22 23 24 25 26 27 28 29 30 31 32 33\n",
            " 34 35 36 37 38 39 40 41 42 43 44 45 46 47 48]\n"
          ]
        }
      ],
      "source": [
        "import numpy as np\n",
        "n=np.arange(10,49)\n",
        "print(n)"
      ]
    },
    {
      "cell_type": "markdown",
      "metadata": {
        "id": "jDi2ZnrQ9l7X"
      },
      "source": [
        "#### 8.  Reverse a vector (first element becomes last) (★☆☆) \n",
        "(**hint**: array\\[::-1\\])"
      ]
    },
    {
      "cell_type": "code",
      "execution_count": null,
      "metadata": {
        "id": "XA2-SUGj9l7X",
        "colab": {
          "base_uri": "https://localhost:8080/"
        },
        "outputId": "6a8a99c9-1bd7-475b-e465-01babd90be52"
      },
      "outputs": [
        {
          "output_type": "stream",
          "name": "stdout",
          "text": [
            "[48 47 46 45 44 43 42 41 40 39 38 37 36 35 34 33 32 31 30 29 28 27 26 25\n",
            " 24 23 22 21 20 19 18 17 16 15 14 13 12 11 10]\n"
          ]
        }
      ],
      "source": [
        "n=n[::-1]\n",
        "print(n)"
      ]
    },
    {
      "cell_type": "markdown",
      "metadata": {
        "id": "l8c0PtGX9l7Y"
      },
      "source": [
        "#### 9.  Create a 3x3 matrix with values ranging from 0 to 8 (★☆☆) \n",
        "(**hint**: reshape)"
      ]
    },
    {
      "cell_type": "code",
      "execution_count": null,
      "metadata": {
        "id": "s2g_2-Cq9l7Y",
        "colab": {
          "base_uri": "https://localhost:8080/"
        },
        "outputId": "43c57c55-f475-4a3d-d95d-7821c21c74b6"
      },
      "outputs": [
        {
          "output_type": "stream",
          "name": "stdout",
          "text": [
            "[[0 1 2]\n",
            " [3 4 5]\n",
            " [6 7 8]]\n"
          ]
        }
      ],
      "source": [
        "import numpy as np\n",
        "n=np.arange(0,9).reshape(3,3)\n",
        "\n",
        "print(n)"
      ]
    },
    {
      "cell_type": "markdown",
      "metadata": {
        "id": "T_v1t69Y9l7Y"
      },
      "source": [
        "#### 10. Find indices of non-zero elements from \\[1,2,0,0,4,0\\] (★☆☆) \n",
        "(**hint**: np.nonzero)"
      ]
    },
    {
      "cell_type": "code",
      "execution_count": null,
      "metadata": {
        "id": "QpxjoF1q9l7Z",
        "colab": {
          "base_uri": "https://localhost:8080/"
        },
        "outputId": "6a49a268-77fd-4919-9bf6-5b660c60177a"
      },
      "outputs": [
        {
          "output_type": "stream",
          "name": "stdout",
          "text": [
            "(array([0, 1, 4]),)\n"
          ]
        }
      ],
      "source": [
        "import numpy as np\n",
        "n=np.nonzero([1,2,0,0,4,0])\n",
        "print(n)\n"
      ]
    },
    {
      "cell_type": "markdown",
      "metadata": {
        "id": "rzuPdlmI9l7Z"
      },
      "source": [
        "#### 11. Create a 3x3 identity matrix (★☆☆) \n",
        "(**hint**: np.eye)"
      ]
    },
    {
      "cell_type": "code",
      "execution_count": null,
      "metadata": {
        "id": "aNfRRx4W9l7Z",
        "colab": {
          "base_uri": "https://localhost:8080/"
        },
        "outputId": "738af5bf-061f-406c-94b5-cf6ffd7ac3d1"
      },
      "outputs": [
        {
          "output_type": "stream",
          "name": "stdout",
          "text": [
            "[[1. 0. 0.]\n",
            " [0. 1. 0.]\n",
            " [0. 0. 1.]]\n"
          ]
        }
      ],
      "source": [
        "n=np.eye(3,3)\n",
        "print(n)"
      ]
    },
    {
      "cell_type": "markdown",
      "metadata": {
        "id": "gLr3uzZy9l7a"
      },
      "source": [
        "#### 12. Create a 3x3x3 array with random values (★☆☆) \n",
        "(**hint**: np.random.random)"
      ]
    },
    {
      "cell_type": "code",
      "execution_count": null,
      "metadata": {
        "collapsed": true,
        "id": "cZRxVPMs9l7a",
        "colab": {
          "base_uri": "https://localhost:8080/"
        },
        "outputId": "3b4646bc-3f53-4691-9735-5e8e6dd603a8"
      },
      "outputs": [
        {
          "output_type": "stream",
          "name": "stdout",
          "text": [
            "[[[0.10077866 0.60439645 0.55050708]\n",
            "  [0.99378104 0.32281059 0.73356005]\n",
            "  [0.7363587  0.3623742  0.6584065 ]]\n",
            "\n",
            " [[0.60031329 0.55707853 0.76754228]\n",
            "  [0.94897473 0.89528688 0.48139409]\n",
            "  [0.96607395 0.04670471 0.11717373]]\n",
            "\n",
            " [[0.13780917 0.23877518 0.32892787]\n",
            "  [0.01523539 0.70420063 0.43846433]\n",
            "  [0.86630377 0.69700204 0.29274168]]]\n"
          ]
        }
      ],
      "source": [
        "n=np.random.random((3,3,3))\n",
        "print(n)"
      ]
    },
    {
      "cell_type": "markdown",
      "metadata": {
        "id": "QWwh9Cwq9l7a"
      },
      "source": [
        "#### 13. Create a 10x10 array with random values and find the minimum and maximum values (★☆☆) \n",
        "(**hint**: min, max)"
      ]
    },
    {
      "cell_type": "code",
      "execution_count": null,
      "metadata": {
        "id": "Gveor2PC9l7a",
        "colab": {
          "base_uri": "https://localhost:8080/"
        },
        "outputId": "2067d4b3-a405-4770-acf2-2c8a11cd94d9"
      },
      "outputs": [
        {
          "output_type": "stream",
          "name": "stdout",
          "text": [
            "[[0.56818029 0.48108068 0.59216988 0.94401036 0.24150874 0.87862212\n",
            "  0.25230786 0.60716366 0.92263434 0.03817579]\n",
            " [0.95695107 0.79187119 0.29297764 0.25530494 0.37375501 0.09433068\n",
            "  0.07683656 0.01670083 0.29867321 0.85499834]\n",
            " [0.10471461 0.86623637 0.45198859 0.25462169 0.8718027  0.95147395\n",
            "  0.94270821 0.6218897  0.96690685 0.72724956]\n",
            " [0.30223505 0.51359951 0.90407599 0.30630103 0.540765   0.04471337\n",
            "  0.70120508 0.09081715 0.55859181 0.65120054]\n",
            " [0.02216913 0.7241935  0.51266809 0.49557296 0.19901315 0.76774012\n",
            "  0.53429295 0.37847193 0.27108717 0.8708898 ]\n",
            " [0.46675947 0.16605887 0.56684016 0.56841259 0.83109026 0.99852801\n",
            "  0.50964227 0.93952069 0.38002187 0.8139089 ]\n",
            " [0.95438888 0.45502766 0.29114994 0.0824783  0.18482815 0.06988534\n",
            "  0.70400616 0.90912034 0.73871888 0.09237843]\n",
            " [0.07759783 0.98984546 0.43044076 0.66944439 0.9011245  0.36127389\n",
            "  0.05554962 0.12088351 0.13639224 0.03592541]\n",
            " [0.8333416  0.65154373 0.84784325 0.02522899 0.0752915  0.89430581\n",
            "  0.62947769 0.74022416 0.14513669 0.00835457]\n",
            " [0.93702792 0.67926203 0.789308   0.73258101 0.81875069 0.02620644\n",
            "  0.84387284 0.42351185 0.95859623 0.59617155]]\n",
            "min: 0.0083545697520796\n",
            "max 0.9985280109836141\n"
          ]
        }
      ],
      "source": [
        "n=np.random.random((10,10))\n",
        "print(n)\n",
        "print(\"min:\",n.min())\n",
        "print(\"max\",n.max())"
      ]
    },
    {
      "cell_type": "markdown",
      "metadata": {
        "id": "c1GJT2UD9l7b"
      },
      "source": [
        "#### 14. Create a random vector of size 30 and find the mean value (★☆☆) \n",
        "(**hint**: mean)"
      ]
    },
    {
      "cell_type": "code",
      "execution_count": null,
      "metadata": {
        "id": "oIsb_UfA9l7b",
        "colab": {
          "base_uri": "https://localhost:8080/"
        },
        "outputId": "72d4596d-6c2f-40f8-b9e0-f0101c645428"
      },
      "outputs": [
        {
          "output_type": "stream",
          "name": "stdout",
          "text": [
            "[0.55140009 0.304087   0.49293613 0.35469316 0.63731921 0.0729119\n",
            " 0.65767895 0.49202234 0.34252381 0.38489294 0.0064233  0.83629913\n",
            " 0.05914576 0.92313064 0.42366743 0.53848896 0.43658475 0.93386944\n",
            " 0.15185342 0.45031668 0.54788168 0.16486371 0.53978956 0.06946896\n",
            " 0.7745935  0.59832096 0.66662139 0.007213   0.15550341 0.61933792]\n",
            "mean: 0.43979463762178933\n"
          ]
        }
      ],
      "source": [
        "n=np.random.random(30)\n",
        "print(n)\n",
        "print(\"mean:\",n.mean())"
      ]
    },
    {
      "cell_type": "markdown",
      "metadata": {
        "id": "us6XyNvE9l7c"
      },
      "source": [
        "#### 15. Create a 2d array with 1 on the border and 0 inside (★☆☆) \n",
        "(**hint**: array\\[1:-1, 1:-1\\])"
      ]
    },
    {
      "cell_type": "code",
      "execution_count": null,
      "metadata": {
        "id": "q-jSl0cv9l7c",
        "colab": {
          "base_uri": "https://localhost:8080/"
        },
        "outputId": "fde94c22-d602-40b3-a0fa-fe9013848c9c"
      },
      "outputs": [
        {
          "output_type": "stream",
          "name": "stdout",
          "text": [
            "[[1. 1. 1. 1. 1. 1. 1. 1. 1. 1.]\n",
            " [1. 1. 1. 1. 1. 1. 1. 1. 1. 1.]\n",
            " [1. 1. 1. 1. 1. 1. 1. 1. 1. 1.]\n",
            " [1. 1. 1. 1. 1. 1. 1. 1. 1. 1.]\n",
            " [1. 1. 1. 1. 1. 1. 1. 1. 1. 1.]\n",
            " [1. 1. 1. 1. 1. 1. 1. 1. 1. 1.]\n",
            " [1. 1. 1. 1. 1. 1. 1. 1. 1. 1.]\n",
            " [1. 1. 1. 1. 1. 1. 1. 1. 1. 1.]\n",
            " [1. 1. 1. 1. 1. 1. 1. 1. 1. 1.]\n",
            " [1. 1. 1. 1. 1. 1. 1. 1. 1. 1.]]\n",
            "[[1. 1. 1. 1. 1. 1. 1. 1. 1. 1.]\n",
            " [1. 0. 0. 0. 0. 0. 0. 0. 0. 1.]\n",
            " [1. 0. 0. 0. 0. 0. 0. 0. 0. 1.]\n",
            " [1. 0. 0. 0. 0. 0. 0. 0. 0. 1.]\n",
            " [1. 0. 0. 0. 0. 0. 0. 0. 0. 1.]\n",
            " [1. 0. 0. 0. 0. 0. 0. 0. 0. 1.]\n",
            " [1. 0. 0. 0. 0. 0. 0. 0. 0. 1.]\n",
            " [1. 0. 0. 0. 0. 0. 0. 0. 0. 1.]\n",
            " [1. 0. 0. 0. 0. 0. 0. 0. 0. 1.]\n",
            " [1. 1. 1. 1. 1. 1. 1. 1. 1. 1.]]\n"
          ]
        }
      ],
      "source": [
        "n=np.ones((10,10))\n",
        "print(n)\n",
        "n[1:-1,1:-1]=0\n",
        "print(n)"
      ]
    },
    {
      "cell_type": "markdown",
      "metadata": {
        "id": "W2Nkp0499l7c"
      },
      "source": [
        "#### 16. How to add a border (filled with 0's) around an existing array? (★☆☆) \n",
        "(**hint**: np.pad)"
      ]
    },
    {
      "cell_type": "code",
      "execution_count": null,
      "metadata": {
        "id": "xVDq3HYb9l7d",
        "colab": {
          "base_uri": "https://localhost:8080/"
        },
        "outputId": "3ad32eca-5979-4c2d-fe9f-1c1613b2a44f"
      },
      "outputs": [
        {
          "output_type": "stream",
          "name": "stdout",
          "text": [
            "[[0. 0. 0. 0. 0. 0.]\n",
            " [0. 1. 1. 1. 1. 0.]\n",
            " [0. 1. 1. 1. 1. 0.]\n",
            " [0. 1. 1. 1. 1. 0.]\n",
            " [0. 1. 1. 1. 1. 0.]\n",
            " [0. 0. 0. 0. 0. 0.]]\n"
          ]
        }
      ],
      "source": [
        "n=np.ones((4,4))\n",
        "print(np.pad(n,pad_width=1))"
      ]
    },
    {
      "cell_type": "markdown",
      "metadata": {
        "id": "BkocsAI_9l7d"
      },
      "source": [
        "#### 17. What is the result of the following expression? (★☆☆) \n",
        "(**hint**: NaN = not a number, inf = infinity)"
      ]
    },
    {
      "cell_type": "markdown",
      "metadata": {
        "id": "CRpJt4ri9l7d"
      },
      "source": [
        "```python\n",
        "0 * np.nan\n",
        "np.nan == np.nan\n",
        "np.inf > np.nan\n",
        "np.nan - np.nan\n",
        "0.3 == 3 * 0.1\n",
        "```"
      ]
    },
    {
      "cell_type": "code",
      "execution_count": null,
      "metadata": {
        "id": "m5Cq2HF-9l7d",
        "colab": {
          "base_uri": "https://localhost:8080/"
        },
        "outputId": "490a8c9c-dd77-4357-d007-de79698cca81"
      },
      "outputs": [
        {
          "output_type": "execute_result",
          "data": {
            "text/plain": [
              "False"
            ]
          },
          "metadata": {},
          "execution_count": 34
        }
      ],
      "source": [
        "0 * np.nan\n",
        "np.nan == np.nan\n",
        "np.inf > np.nan\n",
        "np.nan - np.nan\n",
        "0.3 == 3 * 0.1"
      ]
    },
    {
      "cell_type": "markdown",
      "metadata": {
        "id": "18T2SZg79l7e"
      },
      "source": [
        "#### 18. Create a 5x5 matrix with values 1,2,3,4 just below the diagonal (★☆☆) \n",
        "(**hint**: np.diag)"
      ]
    },
    {
      "cell_type": "code",
      "execution_count": null,
      "metadata": {
        "id": "EeIrZyKV9l7e",
        "colab": {
          "base_uri": "https://localhost:8080/"
        },
        "outputId": "163abcf8-8ee7-4346-ef7c-d4e1b0eda03f"
      },
      "outputs": [
        {
          "output_type": "stream",
          "name": "stdout",
          "text": [
            "[[1 0 0 0]\n",
            " [0 2 0 0]\n",
            " [0 0 3 0]\n",
            " [0 0 0 4]]\n"
          ]
        }
      ],
      "source": [
        "n=np.diag((1,2,3,4))\n",
        "print(n)"
      ]
    },
    {
      "cell_type": "markdown",
      "metadata": {
        "id": "r9-Z8Nlk9l7e"
      },
      "source": [
        "#### 19. Create a 8x8 matrix and fill it with a checkerboard pattern (★☆☆) \n",
        "(**hint**: array\\[::2\\])"
      ]
    },
    {
      "cell_type": "code",
      "execution_count": null,
      "metadata": {
        "id": "oraDeMQe9l7f",
        "colab": {
          "base_uri": "https://localhost:8080/"
        },
        "outputId": "ec11e1b5-3f78-494d-d81f-3de0e984be5b"
      },
      "outputs": [
        {
          "output_type": "stream",
          "name": "stdout",
          "text": [
            "[[0. 0. 0. 0. 0. 0. 0. 0.]\n",
            " [0. 0. 0. 0. 0. 0. 0. 0.]\n",
            " [0. 0. 0. 0. 0. 0. 0. 0.]\n",
            " [0. 0. 0. 0. 0. 0. 0. 0.]\n",
            " [0. 0. 0. 0. 0. 0. 0. 0.]\n",
            " [0. 0. 0. 0. 0. 0. 0. 0.]\n",
            " [0. 0. 0. 0. 0. 0. 0. 0.]\n",
            " [0. 0. 0. 0. 0. 0. 0. 0.]]\n",
            "[[0. 1. 0. 1. 0. 1. 0. 1.]\n",
            " [1. 0. 1. 0. 1. 0. 1. 0.]\n",
            " [0. 1. 0. 1. 0. 1. 0. 1.]\n",
            " [1. 0. 1. 0. 1. 0. 1. 0.]\n",
            " [0. 1. 0. 1. 0. 1. 0. 1.]\n",
            " [1. 0. 1. 0. 1. 0. 1. 0.]\n",
            " [0. 1. 0. 1. 0. 1. 0. 1.]\n",
            " [1. 0. 1. 0. 1. 0. 1. 0.]]\n"
          ]
        }
      ],
      "source": [
        "n=np.zeros((8,8))\n",
        "print(n)\n",
        "n[1::2,::2]=1\n",
        "n[::2,1::2]=1\n",
        "print(n)"
      ]
    },
    {
      "cell_type": "markdown",
      "metadata": {
        "id": "0m3EkE-t9l7f"
      },
      "source": [
        "#### 20. Consider a (6,7,8) shape array, what is the index (x,y,z) of the 100th element? \n",
        "(**hint**: np.unravel_index)"
      ]
    },
    {
      "cell_type": "code",
      "execution_count": null,
      "metadata": {
        "id": "pr1oVDpt9l7f",
        "colab": {
          "base_uri": "https://localhost:8080/"
        },
        "outputId": "ffd6ce56-77c5-4233-8226-3bbc9c48cda1"
      },
      "outputs": [
        {
          "output_type": "stream",
          "name": "stdout",
          "text": [
            "(1, 5, 4)\n"
          ]
        }
      ],
      "source": [
        "import numpy as np\n",
        "x=np.unravel_index(100,(6,7,8))\n",
        "print(x)"
      ]
    },
    {
      "cell_type": "markdown",
      "metadata": {
        "id": "NDtn3E649l7g"
      },
      "source": [
        "#### 21. Create a checkerboard 8x8 matrix using the tile function (★☆☆) \n",
        "(**hint**: np.tile)"
      ]
    },
    {
      "cell_type": "code",
      "execution_count": null,
      "metadata": {
        "id": "zy3crm4k9l7g",
        "colab": {
          "base_uri": "https://localhost:8080/"
        },
        "outputId": "b6ed9904-a2db-4a14-9987-bac001d33c4b"
      },
      "outputs": [
        {
          "output_type": "stream",
          "name": "stdout",
          "text": [
            "[[0 1 0 1 0 1 0 1]\n",
            " [1 0 1 0 1 0 1 0]\n",
            " [0 1 0 1 0 1 0 1]\n",
            " [1 0 1 0 1 0 1 0]\n",
            " [0 1 0 1 0 1 0 1]\n",
            " [1 0 1 0 1 0 1 0]\n",
            " [0 1 0 1 0 1 0 1]\n",
            " [1 0 1 0 1 0 1 0]]\n"
          ]
        }
      ],
      "source": [
        "import numpy as np\n",
        "x=np.tile(np.array([[0,1],[1,0]]),(4,4))\n",
        "print(x)"
      ]
    },
    {
      "cell_type": "markdown",
      "metadata": {
        "id": "3hbGuHbM9l7g"
      },
      "source": [
        "#### 22. Normalize a 5x5 random matrix (★☆☆) \n",
        "(**hint**: (x - min) / (max - min))"
      ]
    },
    {
      "cell_type": "code",
      "execution_count": null,
      "metadata": {
        "id": "UyK0Zh-q9l7g",
        "colab": {
          "base_uri": "https://localhost:8080/"
        },
        "outputId": "d361dff8-6b8d-4de4-cb11-9b3f4daab460"
      },
      "outputs": [
        {
          "output_type": "stream",
          "name": "stdout",
          "text": [
            "[[0.86890124 0.89886286 0.5367171  0.32851193 0.86758335]\n",
            " [0.22086392 0.94273273 0.13319955 0.8489299  0.49916093]\n",
            " [0.28348592 0.41177221 0.0633344  0.02684285 0.89099882]\n",
            " [1.         0.7829998  0.2450743  0.95033486 0.00355222]\n",
            " [0.         0.28727911 0.1049224  0.23949473 0.80440639]]\n"
          ]
        }
      ],
      "source": [
        "import numpy as np\n",
        "x=np.random.random((5,5))\n",
        "x=(x-x.min())/(x.max()-x.min())\n",
        "print(x)"
      ]
    },
    {
      "cell_type": "markdown",
      "metadata": {
        "id": "aud8N2pK9l7h"
      },
      "source": [
        "#### 23. Create a custom dtype that describes a color as four unsigned bytes (RGBA) (★☆☆) \n",
        "(**hint**: np.dtype)"
      ]
    },
    {
      "cell_type": "code",
      "execution_count": null,
      "metadata": {
        "collapsed": true,
        "id": "8-A-WKj19l7h",
        "colab": {
          "base_uri": "https://localhost:8080/"
        },
        "outputId": "007a3340-be7f-4bd6-eaba-5e73ac060953"
      },
      "outputs": [
        {
          "output_type": "stream",
          "name": "stderr",
          "text": [
            "/usr/local/lib/python3.7/dist-packages/ipykernel_launcher.py:4: FutureWarning: Passing (type, 1) or '1type' as a synonym of type is deprecated; in a future version of numpy, it will be understood as (type, (1,)) / '(1,)type'.\n",
            "  after removing the cwd from sys.path.\n"
          ]
        }
      ],
      "source": [
        "x=np.dtype([(\"r\",np.ubyte,1),\n",
        "            (\"g\",np.ubyte,1),\n",
        "            (\"b\",np.ubyte,1),\n",
        "            (\"a\",np.ubyte,1)])"
      ]
    },
    {
      "cell_type": "markdown",
      "metadata": {
        "id": "qFtsPIUQ9l7h"
      },
      "source": [
        "#### 24. Multiply a 5x3 matrix by a 3x2 matrix (real matrix product) (★☆☆) \n",
        "(**hint**: np.dot | @)"
      ]
    },
    {
      "cell_type": "code",
      "execution_count": null,
      "metadata": {
        "id": "iZik8iLK9l7i",
        "colab": {
          "base_uri": "https://localhost:8080/"
        },
        "outputId": "fabe34e9-985a-40a4-e3e1-9ccf58f92c07"
      },
      "outputs": [
        {
          "output_type": "stream",
          "name": "stdout",
          "text": [
            "[[3. 3.]\n",
            " [3. 3.]\n",
            " [3. 3.]\n",
            " [3. 3.]\n",
            " [3. 3.]]\n"
          ]
        }
      ],
      "source": [
        "x=np.dot(np.ones((5,3)),np.ones((3,2)))\n",
        "print(x)"
      ]
    },
    {
      "cell_type": "markdown",
      "metadata": {
        "id": "yA8nEOby9l7i"
      },
      "source": [
        "#### 25. Given a 1D array, negate all elements which are between 3 and 8, in place. (★☆☆) \n",
        "(**hint**: >, <=)"
      ]
    },
    {
      "cell_type": "code",
      "execution_count": null,
      "metadata": {
        "id": "5sv2YNMe9l7i",
        "colab": {
          "base_uri": "https://localhost:8080/"
        },
        "outputId": "72f2f25f-451c-46a1-ed11-18982acd5cce"
      },
      "outputs": [
        {
          "output_type": "stream",
          "name": "stdout",
          "text": [
            "[ 0  1  2  3  4  5  6  7  8  9 10]\n",
            "[ 0  1  2  3 -4 -5 -6 -7 -8  9 10]\n"
          ]
        }
      ],
      "source": [
        "x=np.arange(11)\n",
        "print(x)\n",
        "x[(3<x) & (x <= 8)] *=-1\n",
        "print(x)"
      ]
    },
    {
      "cell_type": "markdown",
      "metadata": {
        "id": "3yjiqRJr9l7i"
      },
      "source": [
        "#### 26. What is the output of the following script? (★☆☆) \n",
        "(**hint**: np.sum)"
      ]
    },
    {
      "cell_type": "markdown",
      "metadata": {
        "id": "QfQQEat39l7j"
      },
      "source": [
        "```python\n",
        "# Author: Jake VanderPlas\n",
        "\n",
        "print(sum(range(5),-1))\n",
        "from numpy import *\n",
        "print(sum(range(5),-1))\n",
        "```"
      ]
    },
    {
      "cell_type": "code",
      "execution_count": null,
      "metadata": {
        "id": "_Ex93nrx9l7j",
        "colab": {
          "base_uri": "https://localhost:8080/"
        },
        "outputId": "e7b63100-3ffa-40bc-9a36-6dbd3be3cb36"
      },
      "outputs": [
        {
          "output_type": "stream",
          "name": "stdout",
          "text": [
            "9\n",
            "10\n"
          ]
        }
      ],
      "source": [
        "print(sum(range(5),-1))\n",
        "from numpy import *\n",
        "print(sum(range(5),-1))"
      ]
    },
    {
      "cell_type": "markdown",
      "metadata": {
        "id": "NEuEjzmu9l7j"
      },
      "source": [
        "#### 27. Consider an integer vector Z, which of these expressions are legal? (★☆☆)"
      ]
    },
    {
      "cell_type": "markdown",
      "metadata": {
        "id": "Z5hGuAvo9l7k"
      },
      "source": [
        "```python\n",
        "Z**Z\n",
        "2 << Z >> 2\n",
        "Z <- Z\n",
        "1j*Z\n",
        "Z/1/1\n",
        "Z<Z>Z\n",
        "```"
      ]
    },
    {
      "cell_type": "code",
      "execution_count": null,
      "metadata": {
        "id": "dlbTai119l7k",
        "colab": {
          "base_uri": "https://localhost:8080/"
        },
        "outputId": "017af6ca-f453-4f46-ab06-19d646dc3744"
      },
      "outputs": [
        {
          "output_type": "stream",
          "name": "stdout",
          "text": [
            "[   1    1    4   27  256 3125]\n",
            "[ 0  1  2  4  8 16]\n",
            "[False False False False False False]\n",
            "[0.+0.j 0.+1.j 0.+2.j 0.+3.j 0.+4.j 0.+5.j]\n",
            "[0. 1. 2. 3. 4. 5.]\n"
          ]
        }
      ],
      "source": [
        "Z=np.arange(6)\n",
        "print(Z**Z)\n",
        "print(2 << Z >> 2)\n",
        "print(Z <- Z)\n",
        "print(1j*Z)\n",
        "print(Z/1/1)\n"
      ]
    },
    {
      "cell_type": "markdown",
      "metadata": {
        "id": "iCjFctsy9l7k"
      },
      "source": [
        "#### 28. What are the result of the following expressions?"
      ]
    },
    {
      "cell_type": "markdown",
      "metadata": {
        "id": "9vRo7fvW9l7l"
      },
      "source": [
        "```python\n",
        "np.array(0) / np.array(0)\n",
        "np.array(0) // np.array(0)\n",
        "np.array([np.nan]).astype(int).astype(float)\n",
        "```"
      ]
    },
    {
      "cell_type": "code",
      "execution_count": null,
      "metadata": {
        "id": "ZawZ03-G9l7l",
        "colab": {
          "base_uri": "https://localhost:8080/"
        },
        "outputId": "60d3367c-127a-4823-ad0a-9fa64cf4ef20"
      },
      "outputs": [
        {
          "output_type": "stream",
          "name": "stderr",
          "text": [
            "/usr/local/lib/python3.7/dist-packages/ipykernel_launcher.py:1: RuntimeWarning: invalid value encountered in true_divide\n",
            "  \"\"\"Entry point for launching an IPython kernel.\n",
            "/usr/local/lib/python3.7/dist-packages/ipykernel_launcher.py:2: RuntimeWarning: divide by zero encountered in floor_divide\n",
            "  \n"
          ]
        },
        {
          "output_type": "execute_result",
          "data": {
            "text/plain": [
              "array([-9.22337204e+18])"
            ]
          },
          "metadata": {},
          "execution_count": 14
        }
      ],
      "source": [
        "np.array(0) / np.array(0)\n",
        "np.array(0) // np.array(0)\n",
        "np.array([np.nan]).astype(int).astype(float)"
      ]
    },
    {
      "cell_type": "markdown",
      "metadata": {
        "id": "pjIBD-5-9l7l"
      },
      "source": [
        "#### 29. How to round away from zero a float array ? (★☆☆) \n",
        "(**hint**: np.uniform, np.copysign, np.ceil, np.abs)"
      ]
    },
    {
      "cell_type": "code",
      "execution_count": null,
      "metadata": {
        "id": "4m65mIOs9l7l",
        "colab": {
          "base_uri": "https://localhost:8080/"
        },
        "outputId": "4051d928-1820-4dae-e4e2-c9593353c05e"
      },
      "outputs": [
        {
          "output_type": "stream",
          "name": "stdout",
          "text": [
            "[-2. -9.  4.  8.  6.  3. -1. -7.  3.  9.]\n"
          ]
        }
      ],
      "source": [
        "x=np.random.uniform(-10,+10,10)\n",
        "print(np.copysign(np.ceil(np.abs(x)),x))"
      ]
    },
    {
      "cell_type": "markdown",
      "metadata": {
        "id": "xqYHMN2I9l7m"
      },
      "source": [
        "#### 30. How to find common values between two arrays? (★☆☆) \n",
        "(**hint**: np.intersect1d)"
      ]
    },
    {
      "cell_type": "code",
      "execution_count": null,
      "metadata": {
        "id": "EqbL_5za9l7m",
        "colab": {
          "base_uri": "https://localhost:8080/"
        },
        "outputId": "dd13abdc-2ec1-4efd-f46f-4cc66360f7d7"
      },
      "outputs": [
        {
          "output_type": "stream",
          "name": "stdout",
          "text": [
            "[0 2 4 5 6 7 8]\n"
          ]
        }
      ],
      "source": [
        "x1=np.random.randint(0,10,10)\n",
        "x2=np.random.randint(0,10,10)\n",
        "print(np.intersect1d(x1,x2))"
      ]
    },
    {
      "cell_type": "markdown",
      "metadata": {
        "id": "XAEBS6C69l7m"
      },
      "source": [
        "#### 31. How to ignore all numpy warnings (not recommended)? (★☆☆) \n",
        "(**hint**: np.seterr, np.errstate)"
      ]
    },
    {
      "cell_type": "code",
      "execution_count": null,
      "metadata": {
        "id": "Y8Q83bs59l7m",
        "colab": {
          "base_uri": "https://localhost:8080/"
        },
        "outputId": "a2194e8c-b7c6-4bf2-a866-4fa9aa4d4585"
      },
      "outputs": [
        {
          "output_type": "stream",
          "name": "stdout",
          "text": [
            "{'divide': 'ignore', 'over': 'ignore', 'under': 'ignore', 'invalid': 'ignore'}\n"
          ]
        }
      ],
      "source": [
        "x=np.seterr(all=\"ignore\")\n",
        "y=np.ones(1)/0\n",
        "c=np.seterr(**x)\n",
        "print(c)"
      ]
    },
    {
      "cell_type": "markdown",
      "metadata": {
        "id": "--fO3xfV9l7n"
      },
      "source": [
        "#### 32. Is the following expressions true? (★☆☆) \n",
        "(**hint**: imaginary number)"
      ]
    },
    {
      "cell_type": "markdown",
      "metadata": {
        "id": "-7ywdsuN9l7n"
      },
      "source": [
        "```python\n",
        "np.sqrt(-1) == np.emath.sqrt(-1)\n",
        "```"
      ]
    },
    {
      "cell_type": "code",
      "execution_count": null,
      "metadata": {
        "id": "CeEGeU8O9l7n",
        "colab": {
          "base_uri": "https://localhost:8080/"
        },
        "outputId": "1d836eb1-05b4-4a07-b645-a6fcbc90393c"
      },
      "outputs": [
        {
          "output_type": "stream",
          "name": "stderr",
          "text": [
            "/usr/local/lib/python3.7/dist-packages/ipykernel_launcher.py:1: RuntimeWarning: invalid value encountered in sqrt\n",
            "  \"\"\"Entry point for launching an IPython kernel.\n"
          ]
        },
        {
          "output_type": "execute_result",
          "data": {
            "text/plain": [
              "False"
            ]
          },
          "metadata": {},
          "execution_count": 20
        }
      ],
      "source": [
        "np.sqrt(-1) == np.emath.sqrt(-1)"
      ]
    },
    {
      "cell_type": "markdown",
      "metadata": {
        "id": "-hpzCT709l7o"
      },
      "source": [
        "#### 33. How to get the dates of yesterday, today and tomorrow? (★☆☆) \n",
        "(**hint**: np.datetime64, np.timedelta64)"
      ]
    },
    {
      "cell_type": "code",
      "execution_count": null,
      "metadata": {
        "collapsed": true,
        "id": "4qUrBVE09l7o",
        "colab": {
          "base_uri": "https://localhost:8080/"
        },
        "outputId": "8ce47e64-d997-464d-8965-ba047982af08"
      },
      "outputs": [
        {
          "output_type": "stream",
          "name": "stdout",
          "text": [
            "yesterday: 2022-08-17\n",
            "Today: 2022-08-18\n",
            "Tommorow: 2022-08-19\n"
          ]
        }
      ],
      "source": [
        "yesterday = np.datetime64('today', 'D') - np.timedelta64(1, 'D')\n",
        "print(\"yesterday:\",yesterday)\n",
        "today     = np.datetime64('today', 'D')\n",
        "print(\"Today:\",today)\n",
        "tomorrow  = np.datetime64('today', 'D') + np.timedelta64(1, 'D')\n",
        "print(\"Tommorow:\",tomorrow)"
      ]
    },
    {
      "cell_type": "markdown",
      "metadata": {
        "id": "a0P4Ayrw9l7o"
      },
      "source": [
        "#### 34. How to get all the dates corresponding to the month of July 2016? (★★☆) \n",
        "(**hint**: np.arange(dtype=datetime64\\['D'\\]))"
      ]
    },
    {
      "cell_type": "code",
      "execution_count": null,
      "metadata": {
        "id": "KhzhvXFF9l7o",
        "colab": {
          "base_uri": "https://localhost:8080/"
        },
        "outputId": "cfd759c9-70d3-4475-bcf5-c3fd77057c11"
      },
      "outputs": [
        {
          "output_type": "stream",
          "name": "stdout",
          "text": [
            "['2016-07-01' '2016-07-02' '2016-07-03' '2016-07-04' '2016-07-05'\n",
            " '2016-07-06' '2016-07-07' '2016-07-08' '2016-07-09' '2016-07-10'\n",
            " '2016-07-11' '2016-07-12' '2016-07-13' '2016-07-14' '2016-07-15'\n",
            " '2016-07-16' '2016-07-17' '2016-07-18' '2016-07-19' '2016-07-20'\n",
            " '2016-07-21' '2016-07-22' '2016-07-23' '2016-07-24' '2016-07-25'\n",
            " '2016-07-26' '2016-07-27' '2016-07-28' '2016-07-29' '2016-07-30'\n",
            " '2016-07-31']\n"
          ]
        }
      ],
      "source": [
        "x= np.arange('2016-07', '2016-08', dtype='datetime64[D]')\n",
        "print(x)"
      ]
    },
    {
      "cell_type": "markdown",
      "metadata": {
        "id": "eV3iazTS9l7p"
      },
      "source": [
        "#### 35. How to compute ((A+B)\\*(-A/2)) in place (without copy)? (★★☆) \n",
        "(**hint**: np.add(out=), np.negative(out=), np.multiply(out=), np.divide(out=))"
      ]
    },
    {
      "cell_type": "code",
      "execution_count": null,
      "metadata": {
        "id": "T6POdRyF9l7p",
        "colab": {
          "base_uri": "https://localhost:8080/"
        },
        "outputId": "2d316b69-e7a8-488b-bfd3-52edeadfb1c3"
      },
      "outputs": [
        {
          "output_type": "execute_result",
          "data": {
            "text/plain": [
              "array([-1.5, -1.5, -1.5])"
            ]
          },
          "metadata": {},
          "execution_count": 24
        }
      ],
      "source": [
        "A = np.ones(3)*1\n",
        "B = np.ones(3)*2\n",
        "C = np.ones(3)*3\n",
        "np.add(A,B,out=B)\n",
        "np.divide(A,2,out=A)\n",
        "np.negative(A,out=A)\n",
        "np.multiply(A,B,out=A)"
      ]
    },
    {
      "cell_type": "markdown",
      "metadata": {
        "id": "UEdkmhFB9l7p"
      },
      "source": [
        "#### 36. Extract the integer part of a random array using 5 different methods (★★☆) \n",
        "(**hint**: %, np.floor, np.ceil, astype, np.trunc)"
      ]
    },
    {
      "cell_type": "code",
      "execution_count": null,
      "metadata": {
        "id": "-w1DN2KZ9l7q",
        "colab": {
          "base_uri": "https://localhost:8080/"
        },
        "outputId": "960a8a25-2152-4691-8f1b-6ea64fd344a1"
      },
      "outputs": [
        {
          "output_type": "stream",
          "name": "stdout",
          "text": [
            "[8. 8. 6. 2. 7. 1. 4. 6. 2. 1.]\n",
            "[8. 8. 6. 2. 7. 1. 4. 6. 2. 1.]\n",
            "[8. 8. 6. 2. 7. 1. 4. 6. 2. 1.]\n",
            "[8 8 6 2 7 1 4 6 2 1]\n",
            "[8. 8. 6. 2. 7. 1. 4. 6. 2. 1.]\n"
          ]
        }
      ],
      "source": [
        "x = np.random.uniform(0,10,10)\n",
        "\n",
        "print (x - x%1)\n",
        "print (np.floor(x))\n",
        "print (np.ceil(x)-1)\n",
        "print (x.astype(int))\n",
        "print (np.trunc(x))"
      ]
    },
    {
      "cell_type": "markdown",
      "metadata": {
        "id": "3s9FUoU49l7q"
      },
      "source": [
        "#### 37. Create a 5x5 matrix with row values ranging from 0 to 4 (★★☆) \n",
        "(**hint**: np.arange)"
      ]
    },
    {
      "cell_type": "code",
      "execution_count": null,
      "metadata": {
        "id": "N8YH6Pcv9l7q",
        "colab": {
          "base_uri": "https://localhost:8080/"
        },
        "outputId": "97e34105-834d-487e-a4e7-d985b73c3604"
      },
      "outputs": [
        {
          "output_type": "stream",
          "name": "stdout",
          "text": [
            "[[0. 1. 2. 3. 4.]\n",
            " [0. 1. 2. 3. 4.]\n",
            " [0. 1. 2. 3. 4.]\n",
            " [0. 1. 2. 3. 4.]\n",
            " [0. 1. 2. 3. 4.]]\n"
          ]
        }
      ],
      "source": [
        "Z = np.zeros((5,5))\n",
        "Z += np.arange(5)\n",
        "print(Z)"
      ]
    },
    {
      "cell_type": "markdown",
      "metadata": {
        "id": "62iI2uoa9l7q"
      },
      "source": [
        "#### 38. Consider a generator function that generates 10 integers and use it to build an array (★☆☆) \n",
        "(**hint**: np.fromiter)"
      ]
    },
    {
      "cell_type": "code",
      "execution_count": null,
      "metadata": {
        "id": "Z8okCg-p9l7r",
        "colab": {
          "base_uri": "https://localhost:8080/"
        },
        "outputId": "42ce3a9e-85f4-43a7-c9b1-c88137dd25b6"
      },
      "outputs": [
        {
          "output_type": "stream",
          "name": "stdout",
          "text": [
            "[0. 1. 2. 3. 4. 5. 6. 7. 8. 9.]\n"
          ]
        }
      ],
      "source": [
        "def generate():\n",
        "    for x in range(10):\n",
        "        yield x\n",
        "Z = np.fromiter(generate(),dtype=float,count=-1)\n",
        "print(Z)"
      ]
    },
    {
      "cell_type": "markdown",
      "metadata": {
        "id": "ypoQlq0y9l7r"
      },
      "source": [
        "#### 39. Create a vector of size 10 with values ranging from 0 to 1, both excluded (★★☆) \n",
        "(**hint**: np.linspace)"
      ]
    },
    {
      "cell_type": "code",
      "execution_count": null,
      "metadata": {
        "id": "giCShkHX9l7r",
        "colab": {
          "base_uri": "https://localhost:8080/"
        },
        "outputId": "f25c6bc4-032e-471c-872d-82b38c1c0f20"
      },
      "outputs": [
        {
          "output_type": "stream",
          "name": "stdout",
          "text": [
            "[0.09090909 0.18181818 0.27272727 0.36363636 0.45454545 0.54545455\n",
            " 0.63636364 0.72727273 0.81818182 0.90909091]\n"
          ]
        }
      ],
      "source": [
        "Z = np.linspace(0,1,11,endpoint=False)[1:]\n",
        "print(Z)"
      ]
    },
    {
      "cell_type": "markdown",
      "metadata": {
        "id": "HiL5CVML9l7s"
      },
      "source": [
        "#### 40. Create a random vector of size 10 and sort it (★★☆) \n",
        "(**hint**: sort)"
      ]
    },
    {
      "cell_type": "code",
      "execution_count": null,
      "metadata": {
        "id": "ddcMhyIe9l7t",
        "colab": {
          "base_uri": "https://localhost:8080/"
        },
        "outputId": "cf509ce9-02f4-4f3a-9af9-9f3b8d630205"
      },
      "outputs": [
        {
          "output_type": "stream",
          "name": "stdout",
          "text": [
            "[0.04387922 0.22566223 0.53064598 0.53759995 0.55983697 0.57144786\n",
            " 0.85246115 0.90219225 0.93579918 0.98976938]\n"
          ]
        }
      ],
      "source": [
        "Z = np.random.random(10)\n",
        "Z.sort()\n",
        "print(Z)"
      ]
    },
    {
      "cell_type": "markdown",
      "metadata": {
        "id": "5aTtzGWs9l7t"
      },
      "source": [
        "#### 41. How to sum a small array faster than np.sum? (★★☆) \n",
        "(**hint**: np.add.reduce)"
      ]
    },
    {
      "cell_type": "code",
      "execution_count": null,
      "metadata": {
        "id": "JQ_htn8p9l7t",
        "colab": {
          "base_uri": "https://localhost:8080/"
        },
        "outputId": "18c63e58-0d9f-43d7-c0eb-98330f55e0ff"
      },
      "outputs": [
        {
          "output_type": "execute_result",
          "data": {
            "text/plain": [
              "45"
            ]
          },
          "metadata": {},
          "execution_count": 30
        }
      ],
      "source": [
        "Z = np.arange(10)\n",
        "np.add.reduce(Z)"
      ]
    },
    {
      "cell_type": "markdown",
      "metadata": {
        "id": "0Wbtitmd9l7t"
      },
      "source": [
        "#### 42. Consider two random array A and B, check if they are equal (★★☆) \n",
        "(**hint**: np.allclose, np.array\\_equal)"
      ]
    },
    {
      "cell_type": "code",
      "execution_count": null,
      "metadata": {
        "id": "K24CWUQn9l7u",
        "colab": {
          "base_uri": "https://localhost:8080/"
        },
        "outputId": "9cffaa78-d324-4ad3-924e-d34d911170c3"
      },
      "outputs": [
        {
          "output_type": "stream",
          "name": "stdout",
          "text": [
            "False\n",
            "False\n"
          ]
        }
      ],
      "source": [
        "A = np.random.randint(0,2,5)\n",
        "B = np.random.randint(0,2,5)\n",
        "equal = np.allclose(A,B)\n",
        "print(equal)\n",
        "equal = np.array_equal(A,B)\n",
        "print(equal)"
      ]
    },
    {
      "cell_type": "markdown",
      "metadata": {
        "id": "DB8t45Ew9l7u"
      },
      "source": [
        "#### 43. Make an array immutable (read-only) (★★☆) \n",
        "(**hint**: flags.writeable)"
      ]
    },
    {
      "cell_type": "code",
      "execution_count": null,
      "metadata": {
        "id": "GfdeAmAK9l7u",
        "colab": {
          "base_uri": "https://localhost:8080/"
        },
        "outputId": "688d08db-8051-4ac9-f854-5b73b24e5d71"
      },
      "outputs": [
        {
          "output_type": "stream",
          "name": "stdout",
          "text": [
            "[0 1 2 3 4 5]\n"
          ]
        }
      ],
      "source": [
        "Z = np.zeros(10)\n",
        "Z.flags.writeable = False\n",
        "print(z)"
      ]
    },
    {
      "cell_type": "markdown",
      "metadata": {
        "id": "_Ctvhk199l7u"
      },
      "source": [
        "#### 44. Consider a random 10x2 matrix representing cartesian coordinates, convert them to polar coordinates (★★☆) \n",
        "(**hint**: np.sqrt, np.arctan2)"
      ]
    },
    {
      "cell_type": "code",
      "execution_count": null,
      "metadata": {
        "id": "3IiNal-P9l7v",
        "colab": {
          "base_uri": "https://localhost:8080/"
        },
        "outputId": "aafe3861-d829-4ea6-c21e-a2abf223aa10"
      },
      "outputs": [
        {
          "output_type": "stream",
          "name": "stdout",
          "text": [
            "[1.22593156 0.84080737 0.9279643  0.92690579 1.03462865 0.25581716\n",
            " 0.75615836 0.82314759 0.17061647 0.63223507]\n",
            "[0.72823994 0.51605725 0.92237419 0.17798475 0.54299247 0.93891542\n",
            " 1.49733023 0.59601708 0.21138892 0.38611385]\n"
          ]
        }
      ],
      "source": [
        "Z = np.random.random((10,2))\n",
        "X,Y = Z[:,0], Z[:,1]\n",
        "R = np.sqrt(X**2+Y**2)\n",
        "T = np.arctan2(Y,X)\n",
        "print(R)\n",
        "print(T)"
      ]
    },
    {
      "cell_type": "markdown",
      "metadata": {
        "id": "cNVk2bcE9l7v"
      },
      "source": [
        "#### 45. Create random vector of size 10 and replace the maximum value by 0 (★★☆) \n",
        "(**hint**: argmax)"
      ]
    },
    {
      "cell_type": "code",
      "execution_count": null,
      "metadata": {
        "id": "XleWCSjv9l7v",
        "colab": {
          "base_uri": "https://localhost:8080/"
        },
        "outputId": "383e997b-0067-4e31-929b-337b223fcd71"
      },
      "outputs": [
        {
          "output_type": "stream",
          "name": "stdout",
          "text": [
            "[0.7116907  0.76032045 0.04752765 0.         0.45471186 0.60053511\n",
            " 0.4227372  0.73651922 0.50676586 0.50690673]\n"
          ]
        }
      ],
      "source": [
        "a=np.random.random(10)\n",
        "a[a.argmax()]=0\n",
        "print(a)"
      ]
    },
    {
      "cell_type": "markdown",
      "metadata": {
        "id": "4Dy_WjwT9l7w"
      },
      "source": [
        "#### 46. Create a structured array with `x` and `y` coordinates covering the \\[0,1\\]x\\[0,1\\] area (★★☆) \n",
        "(**hint**: np.meshgrid)"
      ]
    },
    {
      "cell_type": "code",
      "execution_count": null,
      "metadata": {
        "id": "6KfPLAVa9l7w",
        "colab": {
          "base_uri": "https://localhost:8080/"
        },
        "outputId": "203076d8-d571-4a96-c0cf-035dba4a78f4"
      },
      "outputs": [
        {
          "output_type": "stream",
          "name": "stdout",
          "text": [
            "[[(0.  , 0.  ) (0.25, 0.  ) (0.5 , 0.  ) (0.75, 0.  ) (1.  , 0.  )]\n",
            " [(0.  , 0.25) (0.25, 0.25) (0.5 , 0.25) (0.75, 0.25) (1.  , 0.25)]\n",
            " [(0.  , 0.5 ) (0.25, 0.5 ) (0.5 , 0.5 ) (0.75, 0.5 ) (1.  , 0.5 )]\n",
            " [(0.  , 0.75) (0.25, 0.75) (0.5 , 0.75) (0.75, 0.75) (1.  , 0.75)]\n",
            " [(0.  , 1.  ) (0.25, 1.  ) (0.5 , 1.  ) (0.75, 1.  ) (1.  , 1.  )]]\n"
          ]
        }
      ],
      "source": [
        "Z = np.zeros((5,5), [('x',float),('y',float)])\n",
        "Z['x'], Z['y'] = np.meshgrid(np.linspace(0,1,5),\n",
        "                             np.linspace(0,1,5))\n",
        "print(Z)"
      ]
    },
    {
      "cell_type": "markdown",
      "metadata": {
        "id": "hlY22xF09l7w"
      },
      "source": [
        "####  47. Given two arrays, X and Y, construct the Cauchy matrix C (Cij =1/(xi - yj)) \n",
        "(**hint**: np.subtract.outer)"
      ]
    },
    {
      "cell_type": "code",
      "execution_count": null,
      "metadata": {
        "id": "zKheU4Dh9l7w",
        "colab": {
          "base_uri": "https://localhost:8080/"
        },
        "outputId": "b628fb24-138e-4343-8313-88363b4a8bb6"
      },
      "outputs": [
        {
          "output_type": "stream",
          "name": "stdout",
          "text": [
            "3638.163637117973\n"
          ]
        }
      ],
      "source": [
        "X = np.arange(8)\n",
        "Y = X + 0.5\n",
        "C = 1.0 / np.subtract.outer(X, Y)\n",
        "print(np.linalg.det(C))"
      ]
    },
    {
      "cell_type": "markdown",
      "metadata": {
        "id": "XWhj-plJ9l7x"
      },
      "source": [
        "#### 48. Print the minimum and maximum representable value for each numpy scalar type (★★☆) \n",
        "(**hint**: np.iinfo, np.finfo, eps)"
      ]
    },
    {
      "cell_type": "code",
      "execution_count": null,
      "metadata": {
        "id": "DpBcBD9x9l7x",
        "colab": {
          "base_uri": "https://localhost:8080/"
        },
        "outputId": "4daff099-2c27-449f-d335-879060df6332"
      },
      "outputs": [
        {
          "output_type": "stream",
          "name": "stdout",
          "text": [
            "-128\n",
            "127\n",
            "-2147483648\n",
            "2147483647\n",
            "-9223372036854775808\n",
            "9223372036854775807\n",
            "-3.4028235e+38\n",
            "3.4028235e+38\n",
            "1.1920929e-07\n",
            "-1.7976931348623157e+308\n",
            "1.7976931348623157e+308\n",
            "2.220446049250313e-16\n"
          ]
        }
      ],
      "source": [
        "for dtype in [np.int8, np.int32, np.int64]:\n",
        "   print(np.iinfo(dtype).min)\n",
        "   print(np.iinfo(dtype).max)\n",
        "for dtype in [np.float32, np.float64]:\n",
        "   print(np.finfo(dtype).min)\n",
        "   print(np.finfo(dtype).max)\n",
        "   print(np.finfo(dtype).eps)"
      ]
    },
    {
      "cell_type": "markdown",
      "metadata": {
        "id": "WELlf_KK9l7x"
      },
      "source": [
        "#### 49. How to print all the values of an array? (★★☆) \n",
        "(**hint**: np.set\\_printoptions)"
      ]
    },
    {
      "cell_type": "code",
      "execution_count": null,
      "metadata": {
        "id": "1RWq83vP9l7x",
        "colab": {
          "base_uri": "https://localhost:8080/"
        },
        "outputId": "18881d31-6cb7-4126-95c1-9bcbf98ae618"
      },
      "outputs": [
        {
          "output_type": "stream",
          "name": "stdout",
          "text": [
            "[[1. 1. 1. 1. 1. 1. 1. 1. 1. 1.]\n",
            " [1. 1. 1. 1. 1. 1. 1. 1. 1. 1.]\n",
            " [1. 1. 1. 1. 1. 1. 1. 1. 1. 1.]\n",
            " [1. 1. 1. 1. 1. 1. 1. 1. 1. 1.]\n",
            " [1. 1. 1. 1. 1. 1. 1. 1. 1. 1.]\n",
            " [1. 1. 1. 1. 1. 1. 1. 1. 1. 1.]\n",
            " [1. 1. 1. 1. 1. 1. 1. 1. 1. 1.]\n",
            " [1. 1. 1. 1. 1. 1. 1. 1. 1. 1.]\n",
            " [1. 1. 1. 1. 1. 1. 1. 1. 1. 1.]\n",
            " [1. 1. 1. 1. 1. 1. 1. 1. 1. 1.]]\n"
          ]
        }
      ],
      "source": [
        "import numpy as np\n",
        "np.set_printoptions(threshold=float(\"inf\"))\n",
        "Z = np.ones((10,10))\n",
        "print(Z)"
      ]
    },
    {
      "cell_type": "markdown",
      "metadata": {
        "id": "pvlRy1up9l7y"
      },
      "source": [
        "#### 50. How to find the closest value (to a given scalar) in a vector? (★★☆) \n",
        "(**hint**: argmin)"
      ]
    },
    {
      "cell_type": "code",
      "execution_count": null,
      "metadata": {
        "id": "NQ4r2QWY9l7y",
        "colab": {
          "base_uri": "https://localhost:8080/"
        },
        "outputId": "3bdf1a43-2dea-4977-8403-c07fa78e98a0"
      },
      "outputs": [
        {
          "output_type": "stream",
          "name": "stdout",
          "text": [
            "[ 0  1  2  3  4  5  6  7  8  9 10 11 12 13 14 15 16 17 18 19 20 21 22 23\n",
            " 24 25 26 27 28 29 30 31 32 33 34 35 36 37 38 39 40 41 42 43 44 45 46 47\n",
            " 48 49 50 51 52 53 54 55 56 57 58 59 60 61 62 63 64 65 66 67 68 69 70 71\n",
            " 72 73 74 75 76 77 78 79 80 81 82 83 84 85 86 87 88 89 90 91 92 93 94 95\n",
            " 96 97 98 99]\n",
            "97.88949181857029\n",
            "98\n"
          ]
        }
      ],
      "source": [
        "Z = np.arange(100)\n",
        "print(Z)\n",
        "v = np.random.uniform(0,100)\n",
        "print(v)\n",
        "index = (np.abs(Z-v)).argmin()\n",
        "print(Z[index])"
      ]
    },
    {
      "cell_type": "markdown",
      "metadata": {
        "id": "1CUnFdhn9l7y"
      },
      "source": [
        "#### 51. Create a structured array representing a position (x,y) and a color (r,g,b) (★★☆) \n",
        "(**hint**: dtype)"
      ]
    },
    {
      "cell_type": "code",
      "execution_count": null,
      "metadata": {
        "id": "YtO64Yxi9l7y",
        "colab": {
          "base_uri": "https://localhost:8080/"
        },
        "outputId": "f3d4656f-ce98-4090-c43f-f5814c60eacf"
      },
      "outputs": [
        {
          "output_type": "stream",
          "name": "stdout",
          "text": [
            "[((0., 0.), (0., 0., 0.)) ((0., 0.), (0., 0., 0.))\n",
            " ((0., 0.), (0., 0., 0.)) ((0., 0.), (0., 0., 0.))\n",
            " ((0., 0.), (0., 0., 0.)) ((0., 0.), (0., 0., 0.))\n",
            " ((0., 0.), (0., 0., 0.)) ((0., 0.), (0., 0., 0.))\n",
            " ((0., 0.), (0., 0., 0.)) ((0., 0.), (0., 0., 0.))]\n"
          ]
        },
        {
          "output_type": "stream",
          "name": "stderr",
          "text": [
            "/usr/local/lib/python3.7/dist-packages/ipykernel_launcher.py:5: FutureWarning: Passing (type, 1) or '1type' as a synonym of type is deprecated; in a future version of numpy, it will be understood as (type, (1,)) / '(1,)type'.\n",
            "  \"\"\"\n"
          ]
        }
      ],
      "source": [
        "x = np.zeros(10, [ ('position', [ ('x', float, 1),\n",
        "                                  ('y', float, 1)]),\n",
        "                   ('color',    [ ('r', float, 1),\n",
        "                                  ('g', float, 1),\n",
        "                                  ('b', float, 1)])])\n",
        "print(x)"
      ]
    },
    {
      "cell_type": "markdown",
      "metadata": {
        "id": "Vb51A6E39l7z"
      },
      "source": [
        "#### 52. Consider a random vector with shape (100,2) representing coordinates, find point by point distances (★★☆) \n",
        "(**hint**: np.atleast\\_2d, T, np.sqrt)"
      ]
    },
    {
      "cell_type": "code",
      "execution_count": null,
      "metadata": {
        "id": "PYL6auw19l7z",
        "colab": {
          "base_uri": "https://localhost:8080/"
        },
        "outputId": "580f8074-cd27-4256-de14-244d7b31107e"
      },
      "outputs": [
        {
          "output_type": "stream",
          "name": "stdout",
          "text": [
            "[[0.         0.70927337 0.16484551 0.87986231 0.31034217 1.0202739\n",
            "  0.75830718 0.84945587 0.64761648 0.74374211]\n",
            " [0.70927337 0.         0.56470441 0.59084593 0.40612786 0.36398906\n",
            "  0.57977123 0.24836994 0.56044473 0.64804453]\n",
            " [0.16484551 0.56470441 0.         0.8302762  0.15857788 0.89633833\n",
            "  0.72374157 0.68780763 0.6222872  0.72826378]\n",
            " [0.87986231 0.59084593 0.8302762  0.         0.7271565  0.49779467\n",
            "  0.13697443 0.82742097 0.24783494 0.20581209]\n",
            " [0.31034217 0.40612786 0.15857788 0.7271565  0.         0.74189321\n",
            "  0.63723997 0.54167405 0.54930046 0.65899803]\n",
            " [1.0202739  0.36398906 0.89633833 0.49779467 0.74189321 0.\n",
            "  0.57230577 0.48089512 0.62296289 0.65879703]\n",
            " [0.75830718 0.57977123 0.72374157 0.13697443 0.63723997 0.57230577\n",
            "  0.         0.82657448 0.11374316 0.08665209]\n",
            " [0.84945587 0.24836994 0.68780763 0.82742097 0.54167405 0.48089512\n",
            "  0.82657448 0.         0.80847664 0.89621452]\n",
            " [0.64761648 0.56044473 0.6222872  0.24783494 0.54930046 0.62296289\n",
            "  0.11374316 0.80847664 0.         0.10979072]\n",
            " [0.74374211 0.64804453 0.72826378 0.20581209 0.65899803 0.65879703\n",
            "  0.08665209 0.89621452 0.10979072 0.        ]]\n"
          ]
        }
      ],
      "source": [
        "Z = np.random.random((10,2))\n",
        "X,Y = np.atleast_2d(Z[:,0], Z[:,1])\n",
        "D = np.sqrt( (X-X.T)**2 + (Y-Y.T)**2)\n",
        "print(D)"
      ]
    },
    {
      "cell_type": "markdown",
      "metadata": {
        "id": "9kVE9fK-9l7z"
      },
      "source": [
        "#### 53. How to convert a float (32 bits) array into an integer (32 bits) in place? \n",
        "(**hint**: astype(copy=False))"
      ]
    },
    {
      "cell_type": "code",
      "execution_count": null,
      "metadata": {
        "id": "IN5VctcH9l70",
        "colab": {
          "base_uri": "https://localhost:8080/"
        },
        "outputId": "e94226bb-3375-4980-f599-6e6a26b35607"
      },
      "outputs": [
        {
          "output_type": "stream",
          "name": "stdout",
          "text": [
            "[0. 1. 2. 3. 4. 5. 6. 7. 8. 9.]\n"
          ]
        }
      ],
      "source": [
        "Z = np.arange(10, dtype=np.int32)\n",
        "Z = Z.astype(np.float32, copy=False)\n",
        "print(Z)"
      ]
    },
    {
      "cell_type": "markdown",
      "metadata": {
        "id": "o06R8pbr9l70"
      },
      "source": [
        "#### 54. How to read the following file? (★★☆) \n",
        "(**hint**: np.genfromtxt)"
      ]
    },
    {
      "cell_type": "markdown",
      "metadata": {
        "id": "kZ4j1vIA9l70"
      },
      "source": [
        "```\n",
        "1, 2, 3, 4, 5\n",
        "6,  ,  , 7, 8\n",
        " ,  , 9,10,11\n",
        "```"
      ]
    },
    {
      "cell_type": "code",
      "execution_count": null,
      "metadata": {
        "id": "GDF0NH7j9l70",
        "colab": {
          "base_uri": "https://localhost:8080/"
        },
        "outputId": "05a6cfe1-c19e-460e-91fb-fbdc96dfb877"
      },
      "outputs": [
        {
          "output_type": "stream",
          "name": "stdout",
          "text": [
            "[[ 1  2  3  4  5]\n",
            " [ 6 -1 -1  7  8]\n",
            " [-1 -1  9 10 11]]\n"
          ]
        },
        {
          "output_type": "stream",
          "name": "stderr",
          "text": [
            "/usr/local/lib/python3.7/dist-packages/ipykernel_launcher.py:7: DeprecationWarning: `np.int` is a deprecated alias for the builtin `int`. To silence this warning, use `int` by itself. Doing this will not modify any behavior and is safe. When replacing `np.int`, you may wish to use e.g. `np.int64` or `np.int32` to specify the precision. If you wish to review your current use, check the release note link for additional information.\n",
            "Deprecated in NumPy 1.20; for more details and guidance: https://numpy.org/devdocs/release/1.20.0-notes.html#deprecations\n",
            "  import sys\n"
          ]
        }
      ],
      "source": [
        "from io import StringIO\n",
        "\n",
        "\n",
        "s = StringIO(\"\"\"1, 2, 3, 4, 5\\n\n",
        "                6,  ,  , 7, 8\\n\n",
        "                 ,  , 9,10,11\\n\"\"\")\n",
        "Z = np.genfromtxt(s, delimiter=\",\", dtype=np.int)\n",
        "print(Z)"
      ]
    },
    {
      "cell_type": "markdown",
      "metadata": {
        "id": "qN5qA25T9l71"
      },
      "source": [
        "#### 55. What is the equivalent of enumerate for numpy arrays? (★★☆) \n",
        "(**hint**: np.ndenumerate, np.ndindex)"
      ]
    },
    {
      "cell_type": "code",
      "execution_count": null,
      "metadata": {
        "id": "hZfL32V79l71",
        "colab": {
          "base_uri": "https://localhost:8080/"
        },
        "outputId": "a96a5902-46fa-46f5-b8c6-b1538644c370"
      },
      "outputs": [
        {
          "output_type": "stream",
          "name": "stdout",
          "text": [
            "(0, 0) 0\n",
            "(0, 1) 1\n",
            "(0, 2) 2\n",
            "(1, 0) 3\n",
            "(1, 1) 4\n",
            "(1, 2) 5\n",
            "(2, 0) 6\n",
            "(2, 1) 7\n",
            "(2, 2) 8\n",
            "(0, 0) 0\n",
            "(0, 1) 1\n",
            "(0, 2) 2\n",
            "(1, 0) 3\n",
            "(1, 1) 4\n",
            "(1, 2) 5\n",
            "(2, 0) 6\n",
            "(2, 1) 7\n",
            "(2, 2) 8\n"
          ]
        }
      ],
      "source": [
        "Z = np.arange(9).reshape(3,3)\n",
        "for index, value in np.ndenumerate(Z):\n",
        "    print(index, value)\n",
        "for index in np.ndindex(Z.shape):\n",
        "    print(index, Z[index])"
      ]
    },
    {
      "cell_type": "markdown",
      "metadata": {
        "id": "oKmI72Q69l71"
      },
      "source": [
        "#### 56. Generate a generic 2D Gaussian-like array (★★☆) \n",
        "(**hint**: np.meshgrid, np.exp)"
      ]
    },
    {
      "cell_type": "code",
      "execution_count": null,
      "metadata": {
        "id": "DIAZdYXJ9l72",
        "colab": {
          "base_uri": "https://localhost:8080/"
        },
        "outputId": "3bef1092-4e2b-4fc9-e76b-a26dadb15a31"
      },
      "outputs": [
        {
          "output_type": "stream",
          "name": "stdout",
          "text": [
            "[[0.36787944 0.44822088 0.51979489 0.57375342 0.60279818 0.60279818\n",
            "  0.57375342 0.51979489 0.44822088 0.36787944]\n",
            " [0.44822088 0.54610814 0.63331324 0.69905581 0.73444367 0.73444367\n",
            "  0.69905581 0.63331324 0.54610814 0.44822088]\n",
            " [0.51979489 0.63331324 0.73444367 0.81068432 0.85172308 0.85172308\n",
            "  0.81068432 0.73444367 0.63331324 0.51979489]\n",
            " [0.57375342 0.69905581 0.81068432 0.89483932 0.9401382  0.9401382\n",
            "  0.89483932 0.81068432 0.69905581 0.57375342]\n",
            " [0.60279818 0.73444367 0.85172308 0.9401382  0.98773022 0.98773022\n",
            "  0.9401382  0.85172308 0.73444367 0.60279818]\n",
            " [0.60279818 0.73444367 0.85172308 0.9401382  0.98773022 0.98773022\n",
            "  0.9401382  0.85172308 0.73444367 0.60279818]\n",
            " [0.57375342 0.69905581 0.81068432 0.89483932 0.9401382  0.9401382\n",
            "  0.89483932 0.81068432 0.69905581 0.57375342]\n",
            " [0.51979489 0.63331324 0.73444367 0.81068432 0.85172308 0.85172308\n",
            "  0.81068432 0.73444367 0.63331324 0.51979489]\n",
            " [0.44822088 0.54610814 0.63331324 0.69905581 0.73444367 0.73444367\n",
            "  0.69905581 0.63331324 0.54610814 0.44822088]\n",
            " [0.36787944 0.44822088 0.51979489 0.57375342 0.60279818 0.60279818\n",
            "  0.57375342 0.51979489 0.44822088 0.36787944]]\n"
          ]
        }
      ],
      "source": [
        "X, Y = np.meshgrid(np.linspace(-1,1,10), np.linspace(-1,1,10))\n",
        "D = np.sqrt(X*X+Y*Y)\n",
        "sigma, mu = 1.0, 0.0\n",
        "G = np.exp(-( (D-mu)**2 / ( 2.0 * sigma**2 ) ) )\n",
        "print(G)"
      ]
    },
    {
      "cell_type": "markdown",
      "metadata": {
        "id": "xTNVWdFy9l72"
      },
      "source": [
        "#### 57. How to randomly place p elements in a 2D array? (★★☆) \n",
        "(**hint**: np.put, np.random.choice)"
      ]
    },
    {
      "cell_type": "code",
      "execution_count": null,
      "metadata": {
        "id": "2ekRRZWA9l72",
        "colab": {
          "base_uri": "https://localhost:8080/"
        },
        "outputId": "b6448c3b-6a6f-4bda-e6d2-904292e6f14f"
      },
      "outputs": [
        {
          "output_type": "stream",
          "name": "stdout",
          "text": [
            "[[0. 0. 0. 0. 0. 0. 0. 0. 0. 0.]\n",
            " [0. 0. 0. 0. 0. 0. 0. 0. 0. 0.]\n",
            " [0. 0. 0. 0. 0. 0. 0. 0. 0. 0.]\n",
            " [0. 0. 0. 0. 0. 0. 0. 0. 0. 0.]\n",
            " [1. 0. 0. 0. 0. 0. 0. 0. 1. 0.]\n",
            " [0. 0. 0. 0. 0. 0. 0. 0. 0. 0.]\n",
            " [1. 0. 0. 0. 0. 0. 0. 0. 0. 0.]\n",
            " [0. 0. 0. 0. 0. 0. 0. 0. 0. 0.]\n",
            " [0. 0. 0. 0. 0. 0. 0. 0. 0. 0.]\n",
            " [0. 0. 0. 0. 0. 0. 0. 0. 0. 0.]]\n"
          ]
        }
      ],
      "source": [
        "n = 10\n",
        "p = 3\n",
        "Z = np.zeros((n,n))\n",
        "np.put(Z, np.random.choice(range(n*n), p, replace=False),1)\n",
        "print(Z)"
      ]
    },
    {
      "cell_type": "markdown",
      "metadata": {
        "id": "y40U1igx9l72"
      },
      "source": [
        "#### 58. Subtract the mean of each row of a matrix (★★☆) \n",
        "(**hint**: mean(axis=,keepdims=))"
      ]
    },
    {
      "cell_type": "code",
      "execution_count": null,
      "metadata": {
        "id": "43v8dah09l73",
        "colab": {
          "base_uri": "https://localhost:8080/"
        },
        "outputId": "540840ff-9e5c-4523-c1b9-170a50e126de"
      },
      "outputs": [
        {
          "output_type": "stream",
          "name": "stdout",
          "text": [
            "[[-0.29717391  0.26266152 -0.06164725  0.17758382 -0.08142419]\n",
            " [-0.20216418  0.124788    0.15202307 -0.0177443  -0.0569026 ]\n",
            " [-0.37316779 -0.12615688  0.13880001  0.01500347  0.34552119]\n",
            " [-0.0601186  -0.02970514  0.312353   -0.07417279 -0.14835646]\n",
            " [ 0.10058092 -0.02118063 -0.24457705  0.27206521 -0.10688845]]\n"
          ]
        }
      ],
      "source": [
        "\n",
        "X = np.random.rand(5, 5)\n",
        "\n",
        "\n",
        "Y = X - X.mean(axis=1, keepdims=True)\n",
        "\n",
        "\n",
        "Y = X - X.mean(axis=1).reshape(-1, 1)\n",
        "\n",
        "print(Y)"
      ]
    },
    {
      "cell_type": "markdown",
      "metadata": {
        "id": "aw9DejCr9l73"
      },
      "source": [
        "#### 59. How to sort an array by the nth column? (★★☆) \n",
        "(**hint**: argsort)"
      ]
    },
    {
      "cell_type": "code",
      "execution_count": null,
      "metadata": {
        "id": "jxImLuCw9l73",
        "colab": {
          "base_uri": "https://localhost:8080/"
        },
        "outputId": "ecdea5cb-ae4c-4075-d09b-93e41c049e7f"
      },
      "outputs": [
        {
          "output_type": "stream",
          "name": "stdout",
          "text": [
            "[[6 2 0]\n",
            " [7 0 2]\n",
            " [2 3 8]]\n",
            "[[7 0 2]\n",
            " [6 2 0]\n",
            " [2 3 8]]\n"
          ]
        }
      ],
      "source": [
        "Z = np.random.randint(0,10,(3,3))\n",
        "print(Z)\n",
        "print(Z[Z[:,1].argsort()])"
      ]
    },
    {
      "cell_type": "markdown",
      "metadata": {
        "id": "N33sylNz9l73"
      },
      "source": [
        "#### 60. How to tell if a given 2D array has null columns? (★★☆) \n",
        "(**hint**: any, ~)"
      ]
    },
    {
      "cell_type": "code",
      "execution_count": null,
      "metadata": {
        "id": "2COfk72y9l74",
        "colab": {
          "base_uri": "https://localhost:8080/"
        },
        "outputId": "92ee53aa-0700-45aa-fc74-f17dfb9e1733"
      },
      "outputs": [
        {
          "output_type": "stream",
          "name": "stdout",
          "text": [
            "False\n"
          ]
        }
      ],
      "source": [
        "Z = np.random.randint(0,3,(3,10))\n",
        "print((~Z.any(axis=0)).any())"
      ]
    },
    {
      "cell_type": "markdown",
      "metadata": {
        "id": "TmR4AtxH9l74"
      },
      "source": [
        "#### 61. Find the nearest value from a given value in an array (★★☆) \n",
        "(**hint**: np.abs, argmin, flat)"
      ]
    },
    {
      "cell_type": "code",
      "execution_count": null,
      "metadata": {
        "id": "WvTph0EU9l74",
        "colab": {
          "base_uri": "https://localhost:8080/"
        },
        "outputId": "bbdafbbc-0328-474e-f893-a299da32440d"
      },
      "outputs": [
        {
          "output_type": "stream",
          "name": "stdout",
          "text": [
            "0.5697661693023707\n"
          ]
        }
      ],
      "source": [
        "Z = np.random.uniform(0,1,10)\n",
        "z = 0.5\n",
        "m = Z.flat[np.abs(Z - z).argmin()]\n",
        "print(m)"
      ]
    },
    {
      "cell_type": "markdown",
      "metadata": {
        "id": "DOsilRBL9l74"
      },
      "source": [
        "#### 62. Considering two arrays with shape (1,3) and (3,1), how to compute their sum using an iterator? (★★☆) \n",
        "(**hint**: np.nditer)"
      ]
    },
    {
      "cell_type": "code",
      "execution_count": null,
      "metadata": {
        "id": "1TQYKDSV9l75",
        "colab": {
          "base_uri": "https://localhost:8080/"
        },
        "outputId": "7b9a9eb8-cbef-4ee1-ed08-f7d667c247e8"
      },
      "outputs": [
        {
          "output_type": "stream",
          "name": "stdout",
          "text": [
            "[[0 1 2]\n",
            " [1 2 3]\n",
            " [2 3 4]]\n"
          ]
        }
      ],
      "source": [
        "A = np.arange(3).reshape(3,1)\n",
        "B = np.arange(3).reshape(1,3)\n",
        "it = np.nditer([A,B,None])\n",
        "for x,y,z in it: z[...] = x + y\n",
        "print(it.operands[2])"
      ]
    },
    {
      "cell_type": "markdown",
      "metadata": {
        "id": "gaS8icA19l75"
      },
      "source": [
        "#### 63. Create an array class that has a name attribute (★★☆) \n",
        "(**hint**: class method)"
      ]
    },
    {
      "cell_type": "code",
      "execution_count": null,
      "metadata": {
        "id": "44UjlFBP9l75",
        "colab": {
          "base_uri": "https://localhost:8080/"
        },
        "outputId": "174cc905-e37e-477e-f4d5-02f2fc512260"
      },
      "outputs": [
        {
          "output_type": "stream",
          "name": "stdout",
          "text": [
            "range_10\n"
          ]
        }
      ],
      "source": [
        "class NamedArray(np.ndarray):\n",
        "    def __new__(cls, array, name=\"no name\"):\n",
        "        obj = np.asarray(array).view(cls)\n",
        "        obj.name = name\n",
        "        return obj\n",
        "    def __array_finalize__(self, obj):\n",
        "        if obj is None: return\n",
        "        self.info = getattr(obj, 'name', \"no name\")\n",
        "\n",
        "Z = NamedArray(np.arange(10), \"range_10\")\n",
        "print (Z.name)"
      ]
    },
    {
      "cell_type": "markdown",
      "metadata": {
        "id": "eTBgpxi-9l75"
      },
      "source": [
        "#### 64. Consider a given vector, how to add 1 to each element indexed by a second vector (be careful with repeated indices)? (★★★) \n",
        "(**hint**: np.bincount | np.add.at)"
      ]
    },
    {
      "cell_type": "code",
      "execution_count": null,
      "metadata": {
        "id": "KQIM2xw99l76",
        "colab": {
          "base_uri": "https://localhost:8080/"
        },
        "outputId": "ba72f151-08bc-4c0b-dadc-661d638aa524"
      },
      "outputs": [
        {
          "output_type": "stream",
          "name": "stdout",
          "text": [
            "[2. 2. 4. 3. 4. 7. 3. 1. 2. 2.]\n",
            "[ 3.  3.  7.  5.  7. 13.  5.  1.  3.  3.]\n"
          ]
        }
      ],
      "source": [
        "Z = np.ones(10)\n",
        "I = np.random.randint(0,len(Z),20)\n",
        "Z += np.bincount(I, minlength=len(Z))\n",
        "print(Z)\n",
        "\n",
        "\n",
        "np.add.at(Z, I, 1)\n",
        "print(Z)"
      ]
    },
    {
      "cell_type": "markdown",
      "metadata": {
        "id": "R2BOoHUP9l76"
      },
      "source": [
        "#### 65. How to accumulate elements of a vector (X) to an array (F) based on an index list (I)? (★★★) \n",
        "(**hint**: np.bincount)"
      ]
    },
    {
      "cell_type": "code",
      "execution_count": null,
      "metadata": {
        "id": "SeFD-yw89l76",
        "colab": {
          "base_uri": "https://localhost:8080/"
        },
        "outputId": "4cc6957f-533d-4bbc-e4ce-f88127ef33f6"
      },
      "outputs": [
        {
          "output_type": "stream",
          "name": "stdout",
          "text": [
            "[0. 7. 0. 6. 5. 0. 0. 0. 0. 3.]\n"
          ]
        }
      ],
      "source": [
        "X = [1,2,3,4,5,6]\n",
        "I = [1,3,9,3,4,1]\n",
        "F = np.bincount(I,X)\n",
        "print(F)"
      ]
    },
    {
      "cell_type": "markdown",
      "metadata": {
        "id": "VW-CdKkE9l77"
      },
      "source": [
        "#### 66. Considering a (w,h,3) image of (dtype=ubyte), compute the number of unique colors (★★★) \n",
        "(**hint**: np.unique)"
      ]
    },
    {
      "cell_type": "code",
      "execution_count": null,
      "metadata": {
        "id": "wR6UngAb9l77",
        "colab": {
          "base_uri": "https://localhost:8080/"
        },
        "outputId": "8be40596-4c80-4943-aaf3-26babf4aa53c"
      },
      "outputs": [
        {
          "output_type": "stream",
          "name": "stdout",
          "text": [
            "[0 1]\n"
          ]
        }
      ],
      "source": [
        "w,h = 16,16\n",
        "I = np.random.randint(0,2,(h,w,3)).astype(np.ubyte)\n",
        "F = I[...,0]*256*256 + I[...,1]*256 +I[...,2]\n",
        "n = len(np.unique(F))\n",
        "print(np.unique(I))"
      ]
    },
    {
      "cell_type": "markdown",
      "metadata": {
        "id": "Bp8nFu5R9l77"
      },
      "source": [
        "#### 67. Considering a four dimensions array, how to get sum over the last two axis at once? (★★★) \n",
        "(**hint**: sum(axis=(-2,-1)))"
      ]
    },
    {
      "cell_type": "code",
      "execution_count": null,
      "metadata": {
        "id": "myjqGBJj9l78",
        "colab": {
          "base_uri": "https://localhost:8080/"
        },
        "outputId": "825e4108-0c7b-4fed-ca12-8e65f9c7ccc6"
      },
      "outputs": [
        {
          "output_type": "stream",
          "name": "stdout",
          "text": [
            "[[69 52 45 38]\n",
            " [64 57 32 55]\n",
            " [57 41 63 38]]\n",
            "[[69 52 45 38]\n",
            " [64 57 32 55]\n",
            " [57 41 63 38]]\n"
          ]
        }
      ],
      "source": [
        "A = np.random.randint(0,10,(3,4,3,4))\n",
        "\n",
        "sum = A.sum(axis=(-2,-1))\n",
        "print(sum)\n",
        "\n",
        "sum = A.reshape(A.shape[:-2] + (-1,)).sum(axis=-1)\n",
        "print(sum)"
      ]
    },
    {
      "cell_type": "markdown",
      "metadata": {
        "id": "ZxsdGBix9l78"
      },
      "source": [
        "#### 68. Considering a one-dimensional vector D, how to compute means of subsets of D using a vector S of same size describing subset  indices? (★★★) \n",
        "(**hint**: np.bincount)"
      ]
    },
    {
      "cell_type": "code",
      "execution_count": null,
      "metadata": {
        "id": "bH9NRv_l9l79",
        "colab": {
          "base_uri": "https://localhost:8080/"
        },
        "outputId": "e09a3f33-1040-4a47-accb-0c61a6dcc313"
      },
      "outputs": [
        {
          "output_type": "stream",
          "name": "stdout",
          "text": [
            "[0.41547748 0.43836623 0.33938496 0.61242919 0.37562315 0.64307994\n",
            " 0.52866093 0.58680883 0.41618327 0.55054997]\n",
            "0    0.415477\n",
            "1    0.438366\n",
            "2    0.339385\n",
            "3    0.612429\n",
            "4    0.375623\n",
            "5    0.643080\n",
            "6    0.528661\n",
            "7    0.586809\n",
            "8    0.416183\n",
            "9    0.550550\n",
            "dtype: float64\n"
          ]
        }
      ],
      "source": [
        "D = np.random.uniform(0,1,100)\n",
        "S = np.random.randint(0,10,100)\n",
        "D_sums = np.bincount(S, weights=D)\n",
        "D_counts = np.bincount(S)\n",
        "D_means = D_sums / D_counts\n",
        "print(D_means)\n",
        "\n",
        "\n",
        "import pandas as pd\n",
        "print(pd.Series(D).groupby(S).mean())"
      ]
    },
    {
      "cell_type": "markdown",
      "metadata": {
        "id": "meHFd34t9l7-"
      },
      "source": [
        "#### 69. How to get the diagonal of a dot product? (★★★) \n",
        "(**hint**: np.diag)"
      ]
    },
    {
      "cell_type": "code",
      "execution_count": null,
      "metadata": {
        "id": "vlHQVXDh9l7-",
        "colab": {
          "base_uri": "https://localhost:8080/"
        },
        "outputId": "6fdd8eab-b32f-4562-e1ad-57e099ef6994"
      },
      "outputs": [
        {
          "output_type": "execute_result",
          "data": {
            "text/plain": [
              "array([0.87322427, 1.20620803, 1.45461718, 1.33367727, 1.19381045])"
            ]
          },
          "metadata": {},
          "execution_count": 70
        }
      ],
      "source": [
        "A = np.random.uniform(0,1,(5,5))\n",
        "B = np.random.uniform(0,1,(5,5))\n",
        "\n",
        " \n",
        "np.diag(np.dot(A, B))\n",
        "\n",
        "\n",
        "np.sum(A * B.T, axis=1)\n",
        "\n",
        "\n",
        "np.einsum(\"ij,ji->i\", A, B)"
      ]
    },
    {
      "cell_type": "markdown",
      "metadata": {
        "id": "B8FvVAL99l7-"
      },
      "source": [
        "#### 70. Consider the vector \\[1, 2, 3, 4, 5\\], how to build a new vector with 3 consecutive zeros interleaved between each value? (★★★) \n",
        "(**hint**: array\\[::4\\])"
      ]
    },
    {
      "cell_type": "code",
      "execution_count": null,
      "metadata": {
        "id": "CGVStIVr9l7_",
        "colab": {
          "base_uri": "https://localhost:8080/"
        },
        "outputId": "68c53193-4dc8-42d1-92f9-e1cdbdc74ee9"
      },
      "outputs": [
        {
          "output_type": "stream",
          "name": "stdout",
          "text": [
            "[1. 0. 0. 0. 2. 0. 0. 0. 3. 0. 0. 0. 4. 0. 0. 0. 5.]\n"
          ]
        }
      ],
      "source": [
        "Z = np.array([1,2,3,4,5])\n",
        "nz = 3\n",
        "Z0 = np.zeros(len(Z) + (len(Z)-1)*(nz))\n",
        "Z0[::nz+1] = Z\n",
        "print(Z0)"
      ]
    },
    {
      "cell_type": "markdown",
      "metadata": {
        "id": "1ln4N4o09l7_"
      },
      "source": [
        "#### 71. Consider an array of dimension (5,5,3), how to mulitply it by an array with dimensions (5,5)? (★★★) \n",
        "(**hint**: array\\[:, :, None\\])"
      ]
    },
    {
      "cell_type": "code",
      "execution_count": null,
      "metadata": {
        "collapsed": true,
        "id": "A8Tha1Jp9l7_",
        "colab": {
          "base_uri": "https://localhost:8080/"
        },
        "outputId": "3b988cb3-f50c-41e5-9ee8-c00e7e0ff86b"
      },
      "outputs": [
        {
          "output_type": "stream",
          "name": "stdout",
          "text": [
            "[[[2. 2. 2.]\n",
            "  [2. 2. 2.]\n",
            "  [2. 2. 2.]\n",
            "  [2. 2. 2.]\n",
            "  [2. 2. 2.]]\n",
            "\n",
            " [[2. 2. 2.]\n",
            "  [2. 2. 2.]\n",
            "  [2. 2. 2.]\n",
            "  [2. 2. 2.]\n",
            "  [2. 2. 2.]]\n",
            "\n",
            " [[2. 2. 2.]\n",
            "  [2. 2. 2.]\n",
            "  [2. 2. 2.]\n",
            "  [2. 2. 2.]\n",
            "  [2. 2. 2.]]\n",
            "\n",
            " [[2. 2. 2.]\n",
            "  [2. 2. 2.]\n",
            "  [2. 2. 2.]\n",
            "  [2. 2. 2.]\n",
            "  [2. 2. 2.]]\n",
            "\n",
            " [[2. 2. 2.]\n",
            "  [2. 2. 2.]\n",
            "  [2. 2. 2.]\n",
            "  [2. 2. 2.]\n",
            "  [2. 2. 2.]]]\n"
          ]
        }
      ],
      "source": [
        "A = np.ones((5,5,3))\n",
        "B = 2*np.ones((5,5))\n",
        "print(A * B[:,:,None])"
      ]
    },
    {
      "cell_type": "markdown",
      "metadata": {
        "id": "cLZr76Fe9l8A"
      },
      "source": [
        "#### 72. How to swap two rows of an array? (★★★) \n",
        "(**hint**: array\\[\\[\\]\\] = array\\[\\[\\]\\])"
      ]
    },
    {
      "cell_type": "code",
      "execution_count": null,
      "metadata": {
        "id": "wCDUxU8-9l8A",
        "colab": {
          "base_uri": "https://localhost:8080/"
        },
        "outputId": "a0810fcd-7cba-48dc-d45a-c4ac4c7bbb6b"
      },
      "outputs": [
        {
          "output_type": "stream",
          "name": "stdout",
          "text": [
            "[[ 5  6  7  8  9]\n",
            " [ 0  1  2  3  4]\n",
            " [10 11 12 13 14]\n",
            " [15 16 17 18 19]\n",
            " [20 21 22 23 24]]\n"
          ]
        }
      ],
      "source": [
        "A = np.arange(25).reshape(5,5)\n",
        "A[[0,1]] = A[[1,0]]\n",
        "print(A)"
      ]
    },
    {
      "cell_type": "markdown",
      "metadata": {
        "id": "I4hT9Wkq9l8B"
      },
      "source": [
        "#### 73. Consider a set of 10 triplets describing 10 triangles (with shared vertices), find the set of unique line segments composing all the  triangles (★★★) \n",
        "(**hint**: repeat, np.roll, np.sort, view, np.unique)"
      ]
    },
    {
      "cell_type": "code",
      "execution_count": null,
      "metadata": {
        "id": "iQiAxyVw9l8B",
        "colab": {
          "base_uri": "https://localhost:8080/"
        },
        "outputId": "17d780df-b724-4b57-e550-79a7ce8912dd"
      },
      "outputs": [
        {
          "output_type": "stream",
          "name": "stdout",
          "text": [
            "[( 1, 11) ( 1, 88) ( 5,  6) ( 5, 11) ( 5, 31) ( 5, 67) ( 6, 67) (10, 13)\n",
            " (10, 59) (11, 31) (11, 88) (13, 59) (18, 25) (18, 41) (19, 20) (19, 85)\n",
            " (20, 85) (25, 41) (25, 73) (25, 83) (31, 58) (31, 79) (48, 66) (48, 94)\n",
            " (49, 66) (49, 94) (58, 79) (66, 94) (73, 83)]\n"
          ]
        }
      ],
      "source": [
        "faces = np.random.randint(0,100,(10,3))\n",
        "F = np.roll(faces.repeat(2,axis=1),-1,axis=1)\n",
        "F = F.reshape(len(F)*3,2)\n",
        "F = np.sort(F,axis=1)\n",
        "G = F.view( dtype=[('p0',F.dtype),('p1',F.dtype)] )\n",
        "G = np.unique(G)\n",
        "print(G)"
      ]
    },
    {
      "cell_type": "markdown",
      "metadata": {
        "id": "_Rsi4xDw9l8C"
      },
      "source": [
        "#### 74. Given an array C that is a bincount, how to produce an array A such that np.bincount(A) == C? (★★★) \n",
        "(**hint**: np.repeat)"
      ]
    },
    {
      "cell_type": "code",
      "execution_count": null,
      "metadata": {
        "id": "Mn_cQyZq9l8C",
        "colab": {
          "base_uri": "https://localhost:8080/"
        },
        "outputId": "7c55a478-9d82-4c6b-9b14-28f5630efdd7"
      },
      "outputs": [
        {
          "output_type": "stream",
          "name": "stdout",
          "text": [
            "[1 1 2 3 4 4 6]\n"
          ]
        }
      ],
      "source": [
        "C = np.bincount([1,1,2,3,4,4,6])\n",
        "A = np.repeat(np.arange(len(C)), C)\n",
        "print(A)"
      ]
    },
    {
      "cell_type": "markdown",
      "metadata": {
        "id": "j7WBADSP9l8D"
      },
      "source": [
        "#### 75. How to compute averages using a sliding window over an array? (★★★) \n",
        "(**hint**: np.cumsum)"
      ]
    },
    {
      "cell_type": "code",
      "execution_count": null,
      "metadata": {
        "id": "cC6FNQCr9l8D",
        "colab": {
          "base_uri": "https://localhost:8080/"
        },
        "outputId": "4f3e5b79-f04a-46e5-bb46-b70a60bef4d3"
      },
      "outputs": [
        {
          "output_type": "stream",
          "name": "stdout",
          "text": [
            "[ 1.  2.  3.  4.  5.  6.  7.  8.  9. 10. 11. 12. 13. 14. 15. 16. 17. 18.]\n"
          ]
        }
      ],
      "source": [
        "def moving_average(a, n=3) :\n",
        "    ret = np.cumsum(a, dtype=float)\n",
        "    ret[n:] = ret[n:] - ret[:-n]\n",
        "    return ret[n - 1:] / n\n",
        "Z = np.arange(20)\n",
        "print(moving_average(Z, n=3))"
      ]
    },
    {
      "cell_type": "markdown",
      "metadata": {
        "id": "2TVzMxBj9l8D"
      },
      "source": [
        "#### 76. Consider a one-dimensional array Z, build a two-dimensional array whose first row is (Z\\[0\\],Z\\[1\\],Z\\[2\\]) and each subsequent row is  shifted by 1 (last row should be (Z\\[-3\\],Z\\[-2\\],Z\\[-1\\]) (★★★) \n",
        "(**hint**: from numpy.lib import stride_tricks)"
      ]
    },
    {
      "cell_type": "code",
      "execution_count": null,
      "metadata": {
        "id": "bRjF8MqD9l8E",
        "colab": {
          "base_uri": "https://localhost:8080/"
        },
        "outputId": "31b5efad-e075-4991-a856-773c5a14f2fd"
      },
      "outputs": [
        {
          "output_type": "stream",
          "name": "stdout",
          "text": [
            "[[0 1 2]\n",
            " [1 2 3]\n",
            " [2 3 4]\n",
            " [3 4 5]\n",
            " [4 5 6]\n",
            " [5 6 7]\n",
            " [6 7 8]\n",
            " [7 8 9]]\n"
          ]
        }
      ],
      "source": [
        "from numpy.lib import stride_tricks\n",
        "\n",
        "def rolling(a, window):\n",
        "    shape = (a.size - window + 1, window)\n",
        "    strides = (a.itemsize, a.itemsize)\n",
        "    return stride_tricks.as_strided(a, shape=shape, strides=strides)\n",
        "Z = rolling(np.arange(10), 3)\n",
        "print(Z)"
      ]
    },
    {
      "cell_type": "markdown",
      "metadata": {
        "id": "FhkbuvZb9l8E"
      },
      "source": [
        "#### 77. How to negate a boolean, or to change the sign of a float inplace? (★★★) \n",
        "(**hint**: np.logical_not, np.negative)"
      ]
    },
    {
      "cell_type": "code",
      "execution_count": null,
      "metadata": {
        "id": "H1miIKrj9l8F",
        "colab": {
          "base_uri": "https://localhost:8080/"
        },
        "outputId": "9e0ab354-6e92-4221-d24d-9c3aaf8651d4"
      },
      "outputs": [
        {
          "output_type": "execute_result",
          "data": {
            "text/plain": [
              "array([-0.62583038, -0.41324648,  0.60099081, -0.97062734, -0.52800835,\n",
              "       -0.67879495,  0.20411355, -0.97019815,  0.49282775,  0.65506709,\n",
              "        0.42010758, -0.78207696,  0.72979696,  0.69052991,  0.94539352,\n",
              "        0.64869329, -0.50754082, -0.10860399,  0.90465473,  0.1236053 ,\n",
              "       -0.12135948,  0.77153249,  0.51244072, -0.58302643,  0.15312338,\n",
              "       -0.62791408,  0.46092028, -0.26533711, -0.14753761,  0.9544806 ,\n",
              "       -0.69040654,  0.00658861,  0.31902669, -0.38677646, -0.78420663,\n",
              "        0.14622841, -0.24391403,  0.56552878,  0.12612848, -0.43833444,\n",
              "        0.41865553,  0.9481735 , -0.02403164, -0.65726733,  0.49064051,\n",
              "        0.24104836,  0.40898279, -0.5300661 ,  0.79952481,  0.68089318,\n",
              "       -0.84614004,  0.18603408,  0.34078383,  0.5197995 , -0.64251851,\n",
              "        0.8081744 , -0.91338631,  0.18260094,  0.09986366,  0.87503244,\n",
              "        0.54597056, -0.97158668, -0.1589835 , -0.18002516, -0.97728767,\n",
              "       -0.93849646,  0.17951086,  0.25112424, -0.5048165 , -0.39442421,\n",
              "        0.36840545, -0.43601262, -0.75156138,  0.57732923,  0.5207158 ,\n",
              "       -0.43626355, -0.06598276, -0.63607535,  0.71645289,  0.89837586,\n",
              "        0.03036092,  0.24559332,  0.88032177,  0.01612315,  0.71908272,\n",
              "       -0.98643834, -0.77680959,  0.35528596,  0.93167895,  0.74952728,\n",
              "        0.82960315, -0.4599346 ,  0.41654486, -0.00899054, -0.33262691,\n",
              "        0.14851427,  0.80500245,  0.33108858,  0.24924323, -0.37665389])"
            ]
          },
          "metadata": {},
          "execution_count": 78
        }
      ],
      "source": [
        "Z = np.random.randint(0,2,100)\n",
        "np.logical_not(Z, out=Z)\n",
        "\n",
        "Z = np.random.uniform(-1.0,1.0,100)\n",
        "np.negative(Z, out=Z)"
      ]
    },
    {
      "cell_type": "markdown",
      "metadata": {
        "id": "LjoH9Cux9l8F"
      },
      "source": [
        "#### 78. Consider 2 sets of points P0,P1 describing lines (2d) and a point p, how to compute distance from p to each line i  (P0\\[i\\],P1\\[i\\])? (★★★)"
      ]
    },
    {
      "cell_type": "code",
      "execution_count": null,
      "metadata": {
        "id": "dM0YhA1m9l8G",
        "colab": {
          "base_uri": "https://localhost:8080/"
        },
        "outputId": "1657df77-b29a-49e8-af6a-291343d3101d"
      },
      "outputs": [
        {
          "output_type": "stream",
          "name": "stdout",
          "text": [
            "[ 5.86172523  1.34267735 11.21254936  0.75957004  8.23821859  0.85402237\n",
            "  3.69968166  2.67640213  2.89329231  5.85605753]\n"
          ]
        }
      ],
      "source": [
        "def distance(P0, P1, p):\n",
        "    T = P1 - P0\n",
        "    L = (T**2).sum(axis=1)\n",
        "    U = -((P0[:,0]-p[...,0])*T[:,0] + (P0[:,1]-p[...,1])*T[:,1]) / L\n",
        "    U = U.reshape(len(U),1)\n",
        "    D = P0 + U*T - p\n",
        "    return np.sqrt((D**2).sum(axis=1))\n",
        "\n",
        "P0 = np.random.uniform(-10,10,(10,2))\n",
        "P1 = np.random.uniform(-10,10,(10,2))\n",
        "p  = np.random.uniform(-10,10,( 1,2))\n",
        "print(distance(P0, P1, p))"
      ]
    },
    {
      "cell_type": "markdown",
      "metadata": {
        "id": "IPRBlbTD9l8G"
      },
      "source": [
        "#### 79. Consider 2 sets of points P0,P1 describing lines (2d) and a set of points P, how to compute distance from each point j (P\\[j\\]) to each line i (P0\\[i\\],P1\\[i\\])? (★★★)"
      ]
    },
    {
      "cell_type": "code",
      "execution_count": null,
      "metadata": {
        "id": "hRJRE8Wx9l8G",
        "colab": {
          "base_uri": "https://localhost:8080/"
        },
        "outputId": "122f014f-732f-4985-a258-905134bbe7a6"
      },
      "outputs": [
        {
          "output_type": "stream",
          "name": "stdout",
          "text": [
            "[[ 5.89582007  5.35575202  9.2608293   3.69808105  6.83888042  7.48430317\n",
            "  14.08627285  3.93091733  3.77892086  3.92286412]\n",
            " [ 1.26854353  2.56536418  4.75655121  0.12120747  1.74160515  2.57197128\n",
            "  16.49517108  6.51380919  0.64522924  4.65353746]\n",
            " [ 2.97457084  4.51307822  1.06052003  0.21348116  8.87149502  3.13709116\n",
            "  13.55610551  4.0188507  11.15916957  1.99756379]\n",
            " [ 9.07025986 16.52432971 13.24274679 12.20015049  1.86041868  8.38065295\n",
            "   1.86197283  7.82838584 12.41145374 11.61282206]\n",
            " [ 3.21235097  7.94947887  7.05460449  4.37652073  1.66803902  3.50968436\n",
            "  10.67170221  0.88321221  6.38561099  2.49607177]\n",
            " [ 6.20143114 15.33180618 10.50197187 10.3338197   5.72896233  5.19143165\n",
            "   2.7414662   6.80708125 15.41943946 12.03298065]\n",
            " [12.02063607 15.99875206 15.89258497 12.97449616  4.42703728 12.12883326\n",
            "   2.95889198  6.98793872  5.84585066  8.33444202]\n",
            " [ 7.70985753 10.73418855 11.43955646  7.90051588  3.19063655  8.26485237\n",
            "   8.24745141  1.70556976  3.48363573  3.32416158]\n",
            " [13.50818098 17.66661428 17.41487565 14.62814674  5.04980574 13.50197583\n",
            "   1.30393394  8.65015722  6.36608036  9.82161182]\n",
            " [12.0801858  20.06486226 16.33895162 15.65450476  0.81873722 11.11479079\n",
            "   1.67604511 11.37062851 13.79257821 14.89126335]]\n"
          ]
        }
      ],
      "source": [
        "P0 = np.random.uniform(-10, 10, (10,2))\n",
        "P1 = np.random.uniform(-10,10,(10,2))\n",
        "p = np.random.uniform(-10, 10, (10,2))\n",
        "print(np.array([distance(P0,P1,p_i) for p_i in p]))"
      ]
    },
    {
      "cell_type": "markdown",
      "metadata": {
        "id": "VoAVDn2W9l8H"
      },
      "source": [
        "#### 80. Consider an arbitrary array, write a function that extract a subpart with a fixed shape and centered on a given element (pad with a `fill` value when necessary) (★★★) \n",
        "(**hint**: minimum, maximum)"
      ]
    },
    {
      "cell_type": "code",
      "execution_count": null,
      "metadata": {
        "id": "aMSr_pBi9l8H",
        "colab": {
          "base_uri": "https://localhost:8080/"
        },
        "outputId": "4f6bccb0-bd3c-4d0a-9e0a-a8d93e96f261"
      },
      "outputs": [
        {
          "output_type": "stream",
          "name": "stdout",
          "text": [
            "[[6 9 3 9 5 2 3 4 3 4]\n",
            " [3 1 3 5 4 6 2 6 3 9]\n",
            " [4 9 5 7 3 1 9 1 0 7]\n",
            " [5 4 6 4 6 8 2 7 6 6]\n",
            " [0 4 9 8 8 2 9 3 8 9]\n",
            " [1 7 5 4 6 1 2 7 6 0]\n",
            " [1 6 6 5 2 7 2 0 1 7]\n",
            " [5 6 1 9 7 4 4 2 8 5]\n",
            " [4 3 1 5 6 2 7 6 7 3]\n",
            " [2 6 2 5 0 3 3 6 4 6]]\n",
            "[[0 0 0 0 0]\n",
            " [0 6 9 3 9]\n",
            " [0 3 1 3 5]\n",
            " [0 4 9 5 7]\n",
            " [0 5 4 6 4]]\n"
          ]
        },
        {
          "output_type": "stream",
          "name": "stderr",
          "text": [
            "/usr/local/lib/python3.7/dist-packages/ipykernel_launcher.py:23: FutureWarning: Using a non-tuple sequence for multidimensional indexing is deprecated; use `arr[tuple(seq)]` instead of `arr[seq]`. In the future this will be interpreted as an array index, `arr[np.array(seq)]`, which will result either in an error or a different result.\n"
          ]
        }
      ],
      "source": [
        "Z = np.random.randint(0,10,(10,10))\n",
        "shape = (5,5)\n",
        "fill  = 0\n",
        "position = (1,1)\n",
        "\n",
        "R = np.ones(shape, dtype=Z.dtype)*fill\n",
        "P  = np.array(list(position)).astype(int)\n",
        "Rs = np.array(list(R.shape)).astype(int)\n",
        "Zs = np.array(list(Z.shape)).astype(int)\n",
        "\n",
        "R_start = np.zeros((len(shape),)).astype(int)\n",
        "R_stop  = np.array(list(shape)).astype(int)\n",
        "Z_start = (P-Rs//2)\n",
        "Z_stop  = (P+Rs//2)+Rs%2\n",
        "\n",
        "R_start = (R_start - np.minimum(Z_start,0)).tolist()\n",
        "Z_start = (np.maximum(Z_start,0)).tolist()\n",
        "R_stop = np.maximum(R_start, (R_stop - np.maximum(Z_stop-Zs,0))).tolist()\n",
        "Z_stop = (np.minimum(Z_stop,Zs)).tolist()\n",
        "\n",
        "r = [slice(start,stop) for start,stop in zip(R_start,R_stop)]\n",
        "z = [slice(start,stop) for start,stop in zip(Z_start,Z_stop)]\n",
        "R[r] = Z[z]\n",
        "print(Z)\n",
        "print(R)"
      ]
    },
    {
      "cell_type": "markdown",
      "metadata": {
        "id": "Go6UomsC9l8I"
      },
      "source": [
        "#### 81. Consider an array Z = \\[1,2,3,4,5,6,7,8,9,10,11,12,13,14\\], how to generate an array R = \\[\\[1,2,3,4\\], \\[2,3,4,5\\], \\[3,4,5,6\\], ..., \\[11,12,13,14\\]\\]? (★★★) \n",
        "(**hint**: stride\\_tricks.as\\_strided)"
      ]
    },
    {
      "cell_type": "code",
      "execution_count": null,
      "metadata": {
        "id": "XtKn_-cn9l8I",
        "colab": {
          "base_uri": "https://localhost:8080/"
        },
        "outputId": "bb2816fe-066d-415d-bf8d-c7984596ad38"
      },
      "outputs": [
        {
          "output_type": "stream",
          "name": "stdout",
          "text": [
            "[[ 1  2  3  4]\n",
            " [ 2  3  4  5]\n",
            " [ 3  4  5  6]\n",
            " [ 4  5  6  7]\n",
            " [ 5  6  7  8]\n",
            " [ 6  7  8  9]\n",
            " [ 7  8  9 10]\n",
            " [ 8  9 10 11]\n",
            " [ 9 10 11 12]\n",
            " [10 11 12 13]\n",
            " [11 12 13 14]]\n"
          ]
        }
      ],
      "source": [
        "Z = np.arange(1,15,dtype=np.uint32)\n",
        "R = stride_tricks.as_strided(Z,(11,4),(4,4))\n",
        "print(R)"
      ]
    },
    {
      "cell_type": "markdown",
      "metadata": {
        "id": "qe_lri9a9l8J"
      },
      "source": [
        "#### 82. Compute a matrix rank (★★★) \n",
        "(**hint**: np.linalg.svd) (suggestion: np.linalg.svd)"
      ]
    },
    {
      "cell_type": "code",
      "execution_count": null,
      "metadata": {
        "id": "0m2gEsKX9l8K",
        "colab": {
          "base_uri": "https://localhost:8080/"
        },
        "outputId": "7fcaef3b-e249-472e-f386-f19982c82858"
      },
      "outputs": [
        {
          "output_type": "stream",
          "name": "stdout",
          "text": [
            "10\n"
          ]
        }
      ],
      "source": [
        "Z = np.random.uniform(0,1,(10,10))\n",
        "U, S, V = np.linalg.svd(Z) \n",
        "rank = np.sum(S > 1e-10)\n",
        "print(rank)"
      ]
    },
    {
      "cell_type": "markdown",
      "metadata": {
        "id": "xTqVWk969l8L"
      },
      "source": [
        "#### 83. How to find the most frequent value in an array? \n",
        "(**hint**: np.bincount, argmax)"
      ]
    },
    {
      "cell_type": "code",
      "execution_count": null,
      "metadata": {
        "id": "Voc37Dpb9l8L",
        "colab": {
          "base_uri": "https://localhost:8080/"
        },
        "outputId": "1995ec92-7076-4e7f-9c20-b90ba2fcb905"
      },
      "outputs": [
        {
          "output_type": "stream",
          "name": "stdout",
          "text": [
            "0\n"
          ]
        }
      ],
      "source": [
        "Z = np.random.randint(0,10,50)\n",
        "print(np.bincount(Z).argmax())"
      ]
    },
    {
      "cell_type": "markdown",
      "metadata": {
        "id": "H30LYIO59l8M"
      },
      "source": [
        "#### 84. Extract all the contiguous 3x3 blocks from a random 10x10 matrix (★★★) \n",
        "(**hint**: stride\\_tricks.as\\_strided)"
      ]
    },
    {
      "cell_type": "code",
      "execution_count": null,
      "metadata": {
        "id": "dkRUpJ1Y9l8M",
        "colab": {
          "base_uri": "https://localhost:8080/"
        },
        "outputId": "51c15fe4-eb53-443a-d21a-7cd78577174b"
      },
      "outputs": [
        {
          "output_type": "stream",
          "name": "stdout",
          "text": [
            "[[[[0 2 3]\n",
            "   [3 1 3]\n",
            "   [4 1 4]]\n",
            "\n",
            "  [[2 3 4]\n",
            "   [1 3 4]\n",
            "   [1 4 2]]\n",
            "\n",
            "  [[3 4 0]\n",
            "   [3 4 4]\n",
            "   [4 2 3]]\n",
            "\n",
            "  [[4 0 2]\n",
            "   [4 4 1]\n",
            "   [2 3 0]]\n",
            "\n",
            "  [[0 2 2]\n",
            "   [4 1 4]\n",
            "   [3 0 4]]\n",
            "\n",
            "  [[2 2 3]\n",
            "   [1 4 4]\n",
            "   [0 4 0]]\n",
            "\n",
            "  [[2 3 1]\n",
            "   [4 4 3]\n",
            "   [4 0 0]]\n",
            "\n",
            "  [[3 1 0]\n",
            "   [4 3 2]\n",
            "   [0 0 0]]]\n",
            "\n",
            "\n",
            " [[[3 1 3]\n",
            "   [4 1 4]\n",
            "   [1 2 3]]\n",
            "\n",
            "  [[1 3 4]\n",
            "   [1 4 2]\n",
            "   [2 3 0]]\n",
            "\n",
            "  [[3 4 4]\n",
            "   [4 2 3]\n",
            "   [3 0 4]]\n",
            "\n",
            "  [[4 4 1]\n",
            "   [2 3 0]\n",
            "   [0 4 0]]\n",
            "\n",
            "  [[4 1 4]\n",
            "   [3 0 4]\n",
            "   [4 0 0]]\n",
            "\n",
            "  [[1 4 4]\n",
            "   [0 4 0]\n",
            "   [0 0 4]]\n",
            "\n",
            "  [[4 4 3]\n",
            "   [4 0 0]\n",
            "   [0 4 4]]\n",
            "\n",
            "  [[4 3 2]\n",
            "   [0 0 0]\n",
            "   [4 4 1]]]\n",
            "\n",
            "\n",
            " [[[4 1 4]\n",
            "   [1 2 3]\n",
            "   [4 4 2]]\n",
            "\n",
            "  [[1 4 2]\n",
            "   [2 3 0]\n",
            "   [4 2 3]]\n",
            "\n",
            "  [[4 2 3]\n",
            "   [3 0 4]\n",
            "   [2 3 2]]\n",
            "\n",
            "  [[2 3 0]\n",
            "   [0 4 0]\n",
            "   [3 2 2]]\n",
            "\n",
            "  [[3 0 4]\n",
            "   [4 0 0]\n",
            "   [2 2 2]]\n",
            "\n",
            "  [[0 4 0]\n",
            "   [0 0 4]\n",
            "   [2 2 4]]\n",
            "\n",
            "  [[4 0 0]\n",
            "   [0 4 4]\n",
            "   [2 4 4]]\n",
            "\n",
            "  [[0 0 0]\n",
            "   [4 4 1]\n",
            "   [4 4 2]]]\n",
            "\n",
            "\n",
            " [[[1 2 3]\n",
            "   [4 4 2]\n",
            "   [3 3 4]]\n",
            "\n",
            "  [[2 3 0]\n",
            "   [4 2 3]\n",
            "   [3 4 0]]\n",
            "\n",
            "  [[3 0 4]\n",
            "   [2 3 2]\n",
            "   [4 0 2]]\n",
            "\n",
            "  [[0 4 0]\n",
            "   [3 2 2]\n",
            "   [0 2 2]]\n",
            "\n",
            "  [[4 0 0]\n",
            "   [2 2 2]\n",
            "   [2 2 0]]\n",
            "\n",
            "  [[0 0 4]\n",
            "   [2 2 4]\n",
            "   [2 0 4]]\n",
            "\n",
            "  [[0 4 4]\n",
            "   [2 4 4]\n",
            "   [0 4 2]]\n",
            "\n",
            "  [[4 4 1]\n",
            "   [4 4 2]\n",
            "   [4 2 1]]]\n",
            "\n",
            "\n",
            " [[[4 4 2]\n",
            "   [3 3 4]\n",
            "   [3 1 4]]\n",
            "\n",
            "  [[4 2 3]\n",
            "   [3 4 0]\n",
            "   [1 4 0]]\n",
            "\n",
            "  [[2 3 2]\n",
            "   [4 0 2]\n",
            "   [4 0 2]]\n",
            "\n",
            "  [[3 2 2]\n",
            "   [0 2 2]\n",
            "   [0 2 3]]\n",
            "\n",
            "  [[2 2 2]\n",
            "   [2 2 0]\n",
            "   [2 3 1]]\n",
            "\n",
            "  [[2 2 4]\n",
            "   [2 0 4]\n",
            "   [3 1 0]]\n",
            "\n",
            "  [[2 4 4]\n",
            "   [0 4 2]\n",
            "   [1 0 1]]\n",
            "\n",
            "  [[4 4 2]\n",
            "   [4 2 1]\n",
            "   [0 1 0]]]\n",
            "\n",
            "\n",
            " [[[3 3 4]\n",
            "   [3 1 4]\n",
            "   [1 4 0]]\n",
            "\n",
            "  [[3 4 0]\n",
            "   [1 4 0]\n",
            "   [4 0 1]]\n",
            "\n",
            "  [[4 0 2]\n",
            "   [4 0 2]\n",
            "   [0 1 3]]\n",
            "\n",
            "  [[0 2 2]\n",
            "   [0 2 3]\n",
            "   [1 3 4]]\n",
            "\n",
            "  [[2 2 0]\n",
            "   [2 3 1]\n",
            "   [3 4 3]]\n",
            "\n",
            "  [[2 0 4]\n",
            "   [3 1 0]\n",
            "   [4 3 0]]\n",
            "\n",
            "  [[0 4 2]\n",
            "   [1 0 1]\n",
            "   [3 0 3]]\n",
            "\n",
            "  [[4 2 1]\n",
            "   [0 1 0]\n",
            "   [0 3 4]]]\n",
            "\n",
            "\n",
            " [[[3 1 4]\n",
            "   [1 4 0]\n",
            "   [4 4 2]]\n",
            "\n",
            "  [[1 4 0]\n",
            "   [4 0 1]\n",
            "   [4 2 4]]\n",
            "\n",
            "  [[4 0 2]\n",
            "   [0 1 3]\n",
            "   [2 4 1]]\n",
            "\n",
            "  [[0 2 3]\n",
            "   [1 3 4]\n",
            "   [4 1 1]]\n",
            "\n",
            "  [[2 3 1]\n",
            "   [3 4 3]\n",
            "   [1 1 1]]\n",
            "\n",
            "  [[3 1 0]\n",
            "   [4 3 0]\n",
            "   [1 1 0]]\n",
            "\n",
            "  [[1 0 1]\n",
            "   [3 0 3]\n",
            "   [1 0 1]]\n",
            "\n",
            "  [[0 1 0]\n",
            "   [0 3 4]\n",
            "   [0 1 3]]]\n",
            "\n",
            "\n",
            " [[[1 4 0]\n",
            "   [4 4 2]\n",
            "   [1 0 2]]\n",
            "\n",
            "  [[4 0 1]\n",
            "   [4 2 4]\n",
            "   [0 2 1]]\n",
            "\n",
            "  [[0 1 3]\n",
            "   [2 4 1]\n",
            "   [2 1 1]]\n",
            "\n",
            "  [[1 3 4]\n",
            "   [4 1 1]\n",
            "   [1 1 2]]\n",
            "\n",
            "  [[3 4 3]\n",
            "   [1 1 1]\n",
            "   [1 2 1]]\n",
            "\n",
            "  [[4 3 0]\n",
            "   [1 1 0]\n",
            "   [2 1 1]]\n",
            "\n",
            "  [[3 0 3]\n",
            "   [1 0 1]\n",
            "   [1 1 3]]\n",
            "\n",
            "  [[0 3 4]\n",
            "   [0 1 3]\n",
            "   [1 3 2]]]]\n"
          ]
        }
      ],
      "source": [
        "Z = np.random.randint(0,5,(10,10))\n",
        "n = 3\n",
        "i = 1 + (Z.shape[0]-3)\n",
        "j = 1 + (Z.shape[1]-3)\n",
        "C = stride_tricks.as_strided(Z, shape=(i, j, n, n), strides=Z.strides + Z.strides)\n",
        "print(C)"
      ]
    },
    {
      "cell_type": "markdown",
      "metadata": {
        "id": "HyBehXlF9l8M"
      },
      "source": [
        "#### 85. Create a 2D array subclass such that Z\\[i,j\\] == Z\\[j,i\\] (★★★) \n",
        "(**hint**: class method)"
      ]
    },
    {
      "cell_type": "code",
      "execution_count": null,
      "metadata": {
        "id": "g-2CXBS19l8O",
        "colab": {
          "base_uri": "https://localhost:8080/"
        },
        "outputId": "b07e0a46-4912-4ff8-8a2d-ebb30b035141"
      },
      "outputs": [
        {
          "output_type": "stream",
          "name": "stdout",
          "text": [
            "[[ 7  8 14 11 12]\n",
            " [ 8  1  6  6  9]\n",
            " [14  6  2 42 15]\n",
            " [11  6 42  5  8]\n",
            " [12  9 15  8  0]]\n"
          ]
        }
      ],
      "source": [
        "class Symetric(np.ndarray):\n",
        "    def __setitem__(self, index, value):\n",
        "        i,j = index\n",
        "        super(Symetric, self).__setitem__((i,j), value)\n",
        "        super(Symetric, self).__setitem__((j,i), value)\n",
        "\n",
        "def symetric(Z):\n",
        "    return np.asarray(Z + Z.T - np.diag(Z.diagonal())).view(Symetric)\n",
        "\n",
        "S = symetric(np.random.randint(0,10,(5,5)))\n",
        "S[2,3] = 42\n",
        "print(S)"
      ]
    },
    {
      "cell_type": "markdown",
      "metadata": {
        "id": "7SlQ3Vwz9l8P"
      },
      "source": [
        "#### 86. Consider a set of p matrices wich shape (n,n) and a set of p vectors with shape (n,1). How to compute the sum of of the p matrix products at once? (result has shape (n,1)) (★★★) \n",
        "(**hint**: np.tensordot)"
      ]
    },
    {
      "cell_type": "code",
      "execution_count": null,
      "metadata": {
        "id": "9GR9Ts359l8P",
        "colab": {
          "base_uri": "https://localhost:8080/"
        },
        "outputId": "5eed8d5c-f765-4096-ba53-6e5d8d977619"
      },
      "outputs": [
        {
          "output_type": "stream",
          "name": "stdout",
          "text": [
            "[[200.]\n",
            " [200.]\n",
            " [200.]\n",
            " [200.]\n",
            " [200.]\n",
            " [200.]\n",
            " [200.]\n",
            " [200.]\n",
            " [200.]\n",
            " [200.]\n",
            " [200.]\n",
            " [200.]\n",
            " [200.]\n",
            " [200.]\n",
            " [200.]\n",
            " [200.]\n",
            " [200.]\n",
            " [200.]\n",
            " [200.]\n",
            " [200.]]\n"
          ]
        }
      ],
      "source": [
        "p, n = 10, 20\n",
        "M = np.ones((p,n,n))\n",
        "V = np.ones((p,n,1))\n",
        "S = np.tensordot(M, V, axes=[[0, 2], [0, 1]])\n",
        "print(S)\n",
        "\n",
        "# It works, because:\n",
        "# M is (p,n,n)\n",
        "# V is (p,n,1)\n",
        "# Thus, summing over the paired axes 0 and 0 (of M and V independently),\n",
        "# and 2 and 1, to remain with a (n,1) vector."
      ]
    },
    {
      "cell_type": "markdown",
      "metadata": {
        "id": "3_lfDkqU9l8Q"
      },
      "source": [
        "#### 87. Consider a 16x16 array, how to get the block-sum (block size is 4x4)? (★★★) \n",
        "(**hint**: np.add.reduceat)"
      ]
    },
    {
      "cell_type": "code",
      "execution_count": null,
      "metadata": {
        "id": "b5F216qu9l8R",
        "colab": {
          "base_uri": "https://localhost:8080/"
        },
        "outputId": "b53cdf2d-047c-45eb-e902-b2c953c143ab"
      },
      "outputs": [
        {
          "output_type": "stream",
          "name": "stdout",
          "text": [
            "[[16. 16. 16. 16.]\n",
            " [16. 16. 16. 16.]\n",
            " [16. 16. 16. 16.]\n",
            " [16. 16. 16. 16.]]\n"
          ]
        }
      ],
      "source": [
        "Z = np.ones((16,16))\n",
        "k = 4\n",
        "S = np.add.reduceat(np.add.reduceat(Z, np.arange(0, Z.shape[0], k), axis=0),\n",
        "                                       np.arange(0, Z.shape[1], k), axis=1)\n",
        "print(S)"
      ]
    },
    {
      "cell_type": "markdown",
      "metadata": {
        "id": "oLD1UTXO9l8R"
      },
      "source": [
        "#### 88. How to implement the Game of Life using numpy arrays? (★★★)"
      ]
    },
    {
      "cell_type": "code",
      "execution_count": null,
      "metadata": {
        "id": "iJnqaBpR9l8R",
        "colab": {
          "base_uri": "https://localhost:8080/"
        },
        "outputId": "374b6ff6-728a-40f1-f70b-6a4a0eba13bd"
      },
      "outputs": [
        {
          "output_type": "stream",
          "name": "stdout",
          "text": [
            "[[0 0 0 0 0 0 0 0 0 0 0 0 0 0 0 0 0 0 0 0 0 0 0 0 0 0 0 0 0 0 0 0 0 0 0 0\n",
            "  0 0 0 0 0 0 0 0 0 0 0 0 0 0]\n",
            " [0 0 0 0 0 0 0 0 0 0 0 0 0 0 1 1 1 1 1 0 0 0 0 0 0 0 0 0 1 1 0 0 0 0 0 0\n",
            "  0 0 0 0 0 0 0 0 0 0 0 0 0 0]\n",
            " [0 0 0 0 0 0 0 0 0 0 0 0 0 0 1 0 0 0 0 1 0 0 1 0 0 0 0 0 1 1 0 0 0 0 0 0\n",
            "  0 0 0 0 0 0 0 0 0 0 0 0 0 0]\n",
            " [0 0 0 0 0 0 0 0 0 0 0 0 0 1 0 0 1 0 1 0 1 0 0 1 0 0 0 0 0 0 0 0 0 0 0 0\n",
            "  0 0 0 0 0 0 0 0 0 0 0 0 0 0]\n",
            " [0 0 0 0 0 0 0 0 0 0 0 0 0 1 0 0 1 0 0 0 0 0 0 1 0 0 0 0 0 0 0 0 0 0 0 0\n",
            "  0 1 1 1 0 1 1 1 0 0 0 0 0 0]\n",
            " [0 0 0 0 0 0 0 0 0 0 0 0 0 0 1 0 0 0 0 0 1 0 0 1 0 0 0 0 0 0 0 0 0 0 0 0\n",
            "  0 1 0 0 0 0 0 1 0 0 0 0 0 0]\n",
            " [0 0 0 0 0 0 0 0 0 0 0 0 0 0 0 0 0 0 1 1 0 0 1 0 0 0 0 0 0 0 0 0 0 0 0 0\n",
            "  0 1 0 0 0 0 0 1 0 0 0 0 0 0]\n",
            " [0 0 0 0 0 0 0 0 0 0 0 0 0 0 0 0 0 0 1 0 0 0 0 0 0 0 0 0 0 0 0 0 0 0 0 0\n",
            "  0 0 1 0 0 0 1 0 0 0 0 0 0 0]\n",
            " [0 0 0 1 1 0 0 0 0 0 0 0 0 0 0 0 0 0 0 0 0 0 0 0 0 0 0 0 0 0 0 0 0 0 0 0\n",
            "  0 0 0 1 1 1 0 0 0 0 0 0 0 0]\n",
            " [0 0 0 1 0 1 0 0 0 0 0 0 0 0 0 0 0 0 0 0 0 0 0 0 0 0 0 0 0 0 0 0 0 0 0 0\n",
            "  0 0 0 0 0 0 0 0 0 0 0 0 0 0]\n",
            " [0 0 0 0 1 0 0 0 0 0 0 0 1 0 0 0 0 0 0 0 0 0 0 0 0 0 0 0 0 0 1 1 0 0 0 0\n",
            "  0 0 0 0 0 0 0 0 0 0 0 0 0 0]\n",
            " [0 0 0 0 0 0 0 0 0 0 0 0 1 0 0 0 0 0 0 0 0 0 0 0 0 0 0 0 0 1 0 0 1 0 0 0\n",
            "  0 0 0 0 0 0 0 0 0 0 0 0 0 0]\n",
            " [0 0 0 0 0 0 0 0 0 0 0 0 1 0 0 0 0 0 0 1 1 0 0 0 0 0 0 0 0 1 0 0 1 1 0 0\n",
            "  0 0 0 0 0 0 0 0 0 0 0 0 0 0]\n",
            " [0 0 0 0 0 0 0 1 1 0 0 0 0 0 0 0 0 0 1 0 0 1 0 0 0 1 1 1 1 1 0 1 1 0 0 0\n",
            "  0 0 0 0 0 0 0 0 0 0 0 0 0 0]\n",
            " [0 0 0 0 0 0 1 0 0 1 0 0 0 0 0 0 0 0 0 1 0 1 0 0 0 1 1 1 1 1 0 1 1 0 0 0\n",
            "  0 0 0 0 0 0 0 0 0 0 0 0 0 0]\n",
            " [0 0 0 0 0 0 0 1 1 0 0 0 0 0 0 0 0 0 0 0 1 0 0 0 0 0 0 0 0 0 1 0 0 0 0 0\n",
            "  0 0 0 0 0 0 0 0 0 0 0 0 0 0]\n",
            " [0 0 0 0 0 0 0 0 0 0 0 0 0 1 0 0 0 0 0 0 0 0 0 0 0 0 0 0 0 0 0 0 0 0 0 0\n",
            "  0 0 0 0 0 0 0 0 0 0 0 0 0 0]\n",
            " [0 0 0 0 0 0 0 0 0 0 0 0 0 1 0 0 0 0 0 0 0 0 0 0 0 0 0 0 0 0 0 0 0 0 0 0\n",
            "  0 0 0 0 1 0 0 0 0 0 0 0 0 0]\n",
            " [0 0 0 0 0 0 0 0 0 0 1 0 1 1 0 0 0 0 0 0 0 0 0 0 0 0 0 0 0 0 0 0 0 0 0 0\n",
            "  0 0 0 0 1 0 0 0 0 0 0 0 0 0]\n",
            " [0 0 0 0 0 0 0 0 0 0 1 0 1 0 0 0 0 0 0 0 0 0 0 0 0 0 0 0 0 0 0 0 0 0 0 0\n",
            "  0 0 0 0 1 0 0 0 0 0 0 0 0 0]\n",
            " [0 0 0 0 0 0 0 0 0 0 1 1 0 0 0 0 0 0 0 0 0 0 0 0 0 0 0 0 0 0 0 0 0 0 0 0\n",
            "  0 0 0 0 0 0 0 0 0 0 0 0 0 0]\n",
            " [0 0 0 0 0 0 0 0 0 0 0 0 0 0 0 0 0 0 0 0 0 0 0 0 0 0 0 0 0 0 0 0 0 0 0 0\n",
            "  0 0 0 0 0 0 0 0 0 1 1 0 0 0]\n",
            " [0 0 0 0 0 0 0 0 0 0 0 1 0 0 0 0 0 0 0 0 0 0 0 0 0 0 0 0 0 0 0 0 0 0 0 0\n",
            "  0 0 0 0 0 0 0 0 0 1 1 0 0 0]\n",
            " [0 0 0 0 0 0 0 0 0 0 1 0 0 0 0 0 0 0 0 0 0 0 0 0 0 0 0 0 0 0 0 0 0 0 0 0\n",
            "  0 0 0 0 0 0 0 0 0 0 0 0 0 0]\n",
            " [0 0 0 0 0 0 0 0 0 0 0 0 0 0 0 0 0 0 0 0 0 0 0 0 0 0 0 0 0 0 0 0 0 0 0 0\n",
            "  0 0 0 0 0 0 0 0 0 0 0 0 0 0]\n",
            " [0 0 0 0 0 0 0 0 0 0 0 0 0 0 0 0 0 0 0 0 0 0 0 0 0 0 0 0 0 0 0 0 0 0 0 0\n",
            "  0 0 0 0 0 0 0 0 0 0 0 0 0 0]\n",
            " [0 0 0 0 0 0 0 0 0 0 0 0 0 0 0 0 0 0 0 0 0 0 0 0 0 0 0 0 0 0 0 0 0 0 0 0\n",
            "  0 0 0 0 0 0 0 0 0 0 0 0 0 0]\n",
            " [0 0 0 0 0 0 0 0 0 0 0 0 0 0 0 0 0 0 0 0 0 0 0 0 0 0 1 1 0 0 0 0 0 0 0 0\n",
            "  0 0 0 0 0 0 0 0 0 0 0 0 0 0]\n",
            " [0 0 0 0 0 0 0 0 0 0 0 0 0 0 0 0 0 0 0 0 0 0 0 0 0 0 1 1 0 0 0 0 0 0 0 0\n",
            "  0 0 0 0 0 0 0 0 0 0 0 0 0 0]\n",
            " [0 0 0 0 0 0 0 0 0 0 0 0 0 0 0 0 0 0 0 0 0 0 0 0 0 0 0 0 0 0 0 0 0 0 0 0\n",
            "  0 0 0 0 0 0 0 0 0 0 0 0 0 0]\n",
            " [0 0 0 0 0 0 0 1 1 0 0 0 0 0 0 0 0 0 0 0 0 0 0 0 0 0 0 0 0 0 1 1 0 0 0 0\n",
            "  0 0 0 0 0 0 0 0 0 0 0 0 0 0]\n",
            " [0 0 0 0 0 0 1 0 0 1 0 0 0 0 0 0 0 0 0 0 0 0 0 0 0 0 0 0 0 0 1 1 0 0 0 0\n",
            "  0 0 0 0 0 0 0 0 0 0 0 0 0 0]\n",
            " [0 0 0 0 0 0 0 1 1 0 0 0 0 0 0 0 0 0 1 1 1 0 0 0 0 0 0 0 0 0 0 0 0 0 0 0\n",
            "  0 0 0 0 0 0 0 0 0 0 0 0 0 0]\n",
            " [0 0 0 0 0 0 0 0 0 0 0 0 0 0 0 0 0 0 0 0 0 0 0 0 0 0 0 0 0 0 0 0 0 0 0 0\n",
            "  0 0 0 0 0 0 0 0 0 0 0 0 0 0]\n",
            " [0 0 0 0 0 0 0 0 0 0 0 0 0 0 0 0 0 0 0 0 0 0 0 0 0 0 0 0 0 0 0 0 0 0 0 0\n",
            "  0 0 0 0 0 0 0 0 0 0 0 0 0 0]\n",
            " [0 0 0 0 0 0 0 0 0 0 0 0 0 0 0 0 0 0 0 0 0 0 0 0 0 0 0 0 0 0 0 0 0 0 0 0\n",
            "  0 0 0 0 0 0 0 0 0 0 0 0 0 0]\n",
            " [0 0 0 0 0 0 0 0 0 0 0 0 0 0 0 0 0 0 0 0 0 0 0 0 0 0 0 0 0 0 0 0 0 0 0 0\n",
            "  0 0 0 0 0 0 0 0 0 0 0 0 0 0]\n",
            " [0 0 0 0 0 0 0 0 0 0 0 0 1 1 0 0 0 0 0 0 0 0 0 0 0 0 0 0 0 0 0 0 0 0 0 0\n",
            "  0 0 0 0 0 0 0 0 0 0 0 0 0 0]\n",
            " [0 0 0 0 0 0 0 0 0 0 0 0 1 1 0 0 0 0 0 0 0 0 0 0 0 0 0 0 0 0 0 0 0 0 0 0\n",
            "  0 0 0 0 0 0 0 0 0 0 0 0 0 0]\n",
            " [0 0 0 0 0 0 0 0 0 0 0 0 0 0 0 0 0 0 0 0 0 0 0 0 0 0 0 0 0 0 0 0 0 0 0 0\n",
            "  0 0 0 0 0 0 0 0 0 0 0 0 0 0]\n",
            " [0 0 0 0 0 0 0 0 0 0 0 0 0 0 0 0 0 0 0 0 0 0 0 0 0 0 0 0 0 0 0 0 0 0 0 0\n",
            "  0 0 0 0 0 0 0 1 0 0 0 0 0 0]\n",
            " [0 0 0 0 0 0 0 0 0 0 0 0 0 0 0 0 0 0 0 0 0 0 0 0 0 1 1 0 0 0 0 0 0 0 0 0\n",
            "  0 0 0 0 0 0 1 0 1 0 0 0 0 0]\n",
            " [0 0 0 0 0 0 0 0 0 0 0 0 0 0 0 0 0 0 0 0 0 0 0 0 0 1 1 0 0 0 0 0 0 0 0 0\n",
            "  0 0 0 0 0 0 1 0 1 0 0 0 0 0]\n",
            " [0 0 0 0 0 0 0 0 0 0 0 0 0 0 0 0 0 0 0 0 0 0 0 0 0 0 0 0 0 0 0 0 1 0 0 0\n",
            "  0 0 0 0 0 0 0 1 0 0 0 0 0 0]\n",
            " [0 0 0 0 0 0 0 0 0 0 0 0 0 0 0 0 0 0 0 0 0 0 0 0 0 0 0 0 0 0 0 1 0 1 0 0\n",
            "  0 0 0 0 0 0 0 0 0 0 0 0 0 0]\n",
            " [0 0 0 0 0 0 0 0 0 0 0 0 0 0 0 0 0 0 0 0 0 0 0 0 0 0 0 0 0 0 1 0 0 1 0 0\n",
            "  0 0 0 0 0 0 0 0 0 0 0 0 0 0]\n",
            " [0 0 0 0 0 0 0 0 0 0 0 0 0 0 0 0 0 0 0 0 0 0 0 0 0 0 0 0 0 0 0 1 1 0 0 0\n",
            "  0 0 0 1 1 0 0 0 0 0 0 0 0 0]\n",
            " [0 0 0 0 0 0 0 0 0 0 0 0 0 0 0 0 0 0 0 0 0 0 0 0 0 0 0 0 0 0 0 0 0 0 0 0\n",
            "  0 0 0 1 0 1 0 0 0 0 0 0 0 0]\n",
            " [0 0 0 0 0 0 0 0 0 0 0 0 0 0 0 0 0 0 0 0 0 0 0 0 0 0 0 0 0 0 0 0 0 0 0 0\n",
            "  0 0 0 0 1 0 0 0 0 0 0 0 0 0]\n",
            " [0 0 0 0 0 0 0 0 0 0 0 0 0 0 0 0 0 0 0 0 0 0 0 0 0 0 0 0 0 0 0 0 0 0 0 0\n",
            "  0 0 0 0 0 0 0 0 0 0 0 0 0 0]]\n"
          ]
        }
      ],
      "source": [
        "def iterate(Z):\n",
        " \n",
        "    N = (Z[0:-2,0:-2] + Z[0:-2,1:-1] + Z[0:-2,2:] +\n",
        "         Z[1:-1,0:-2]                + Z[1:-1,2:] +\n",
        "         Z[2:  ,0:-2] + Z[2:  ,1:-1] + Z[2:  ,2:])\n",
        "\n",
        "  \n",
        "    birth = (N==3) & (Z[1:-1,1:-1]==0)\n",
        "    survive = ((N==2) | (N==3)) & (Z[1:-1,1:-1]==1)\n",
        "    Z[...] = 0\n",
        "    Z[1:-1,1:-1][birth | survive] = 1\n",
        "    return Z\n",
        "\n",
        "Z = np.random.randint(0,2,(50,50))\n",
        "for i in range(100): Z = iterate(Z)\n",
        "print(Z)"
      ]
    },
    {
      "cell_type": "markdown",
      "metadata": {
        "id": "oOEHpbdq9l8S"
      },
      "source": [
        "#### 89. How to get the n largest values of an array (★★★) \n",
        "(**hint**: np.argsort | np.argpartition)"
      ]
    },
    {
      "cell_type": "code",
      "execution_count": null,
      "metadata": {
        "id": "3YfhTka69l8S",
        "colab": {
          "base_uri": "https://localhost:8080/"
        },
        "outputId": "71bfad00-8d9e-4206-fa74-85f744e53e36"
      },
      "outputs": [
        {
          "output_type": "stream",
          "name": "stdout",
          "text": [
            "[9995 9996 9997 9998 9999]\n",
            "[9997 9999 9998 9996 9995]\n"
          ]
        }
      ],
      "source": [
        "Z = np.arange(10000)\n",
        "np.random.shuffle(Z)\n",
        "n = 5\n",
        "\n",
        "\n",
        "print (Z[np.argsort(Z)[-n:]])\n",
        "\n",
        "\n",
        "print (Z[np.argpartition(-Z,n)[:n]])"
      ]
    },
    {
      "cell_type": "markdown",
      "metadata": {
        "id": "pGDehKdz9l8T"
      },
      "source": [
        "#### 90. Given an arbitrary number of vectors, build the cartesian product (every combinations of every item) (★★★) \n",
        "(**hint**: np.indices)"
      ]
    },
    {
      "cell_type": "code",
      "execution_count": null,
      "metadata": {
        "scrolled": true,
        "id": "SR8pOhuS9l8T",
        "colab": {
          "base_uri": "https://localhost:8080/"
        },
        "outputId": "a16c7749-5b08-4361-b214-e339f3d551e6"
      },
      "outputs": [
        {
          "output_type": "stream",
          "name": "stdout",
          "text": [
            "[[1 4 6]\n",
            " [1 4 7]\n",
            " [1 5 6]\n",
            " [1 5 7]\n",
            " [2 4 6]\n",
            " [2 4 7]\n",
            " [2 5 6]\n",
            " [2 5 7]\n",
            " [3 4 6]\n",
            " [3 4 7]\n",
            " [3 5 6]\n",
            " [3 5 7]]\n"
          ]
        }
      ],
      "source": [
        "def cartesian(arrays):\n",
        "    arrays = [np.asarray(a) for a in arrays]\n",
        "    shape = (len(x) for x in arrays)\n",
        "\n",
        "    ix = np.indices(shape, dtype=int)\n",
        "    ix = ix.reshape(len(arrays), -1).T\n",
        "\n",
        "    for n, arr in enumerate(arrays):\n",
        "        ix[:, n] = arrays[n][ix[:, n]]\n",
        "\n",
        "    return ix\n",
        "\n",
        "print (cartesian(([1, 2, 3], [4, 5], [6, 7])))"
      ]
    },
    {
      "cell_type": "markdown",
      "metadata": {
        "id": "ZLKlz3_59l8U"
      },
      "source": [
        "#### 91. How to create a record array from a regular array? (★★★) \n",
        "(**hint**: np.core.records.fromarrays)"
      ]
    },
    {
      "cell_type": "code",
      "execution_count": null,
      "metadata": {
        "id": "xluKiT2f9l8U",
        "colab": {
          "base_uri": "https://localhost:8080/"
        },
        "outputId": "b8236471-8179-4971-83ae-5f6a1305f5e5"
      },
      "outputs": [
        {
          "output_type": "stream",
          "name": "stdout",
          "text": [
            "[(b'Hello', 2.5, 3) (b'World', 3.6, 2)]\n"
          ]
        }
      ],
      "source": [
        "Z = np.array([(\"Hello\", 2.5, 3),\n",
        "              (\"World\", 3.6, 2)])\n",
        "R = np.core.records.fromarrays(Z.T, \n",
        "                               names='col1, col2, col3',\n",
        "                               formats = 'S8, f8, i8')\n",
        "print(R)"
      ]
    },
    {
      "cell_type": "markdown",
      "metadata": {
        "id": "gH3YU9bF9l8U"
      },
      "source": [
        "#### 92. Consider a large vector Z, compute Z to the power of 3 using 3 different methods (★★★) \n",
        "(**hint**: np.power, \\*, np.einsum)"
      ]
    },
    {
      "cell_type": "code",
      "execution_count": null,
      "metadata": {
        "id": "mxuRuWpL9l8V",
        "colab": {
          "base_uri": "https://localhost:8080/"
        },
        "outputId": "eb3b84cb-4adc-4e66-9f68-ea461c3625f5"
      },
      "outputs": [
        {
          "output_type": "stream",
          "name": "stdout",
          "text": [
            "3.76 s ± 6.26 ms per loop (mean ± std. dev. of 7 runs, 1 loop each)\n",
            "159 ms ± 21.7 ms per loop (mean ± std. dev. of 7 runs, 10 loops each)\n",
            "142 ms ± 17.2 ms per loop (mean ± std. dev. of 7 runs, 10 loops each)\n"
          ]
        }
      ],
      "source": [
        "x = np.random.random(int(5e7))\n",
        "\n",
        "%timeit np.power(x,3)\n",
        "%timeit x*x*x\n",
        "%timeit np.einsum('i,i,i->i',x,x,x)"
      ]
    },
    {
      "cell_type": "markdown",
      "metadata": {
        "id": "qDyVWaKU9l8V"
      },
      "source": [
        "#### 93. Consider two arrays A and B of shape (8,3) and (2,2). How to find rows of A that contain elements of each row of B regardless of the order of the elements in B? (★★★) \n",
        "(**hint**: np.where)"
      ]
    },
    {
      "cell_type": "code",
      "execution_count": null,
      "metadata": {
        "id": "I7asFO2p9l8W",
        "colab": {
          "base_uri": "https://localhost:8080/"
        },
        "outputId": "5f027f89-5ecc-4f44-99c2-11a1f4fb0944"
      },
      "outputs": [
        {
          "output_type": "stream",
          "name": "stdout",
          "text": [
            "[1 2 4 5 6]\n"
          ]
        }
      ],
      "source": [
        "A = np.random.randint(0,5,(8,3))\n",
        "B = np.random.randint(0,5,(2,2))\n",
        "\n",
        "C = (A[..., np.newaxis, np.newaxis] == B)\n",
        "rows = np.where(C.any((3,1)).all(1))[0]\n",
        "print(rows)"
      ]
    },
    {
      "cell_type": "markdown",
      "metadata": {
        "id": "gQC8oKJh9l8W"
      },
      "source": [
        "#### 94. Considering a 10x3 matrix, extract rows with unequal values (e.g. \\[2,2,3\\]) (★★★)"
      ]
    },
    {
      "cell_type": "code",
      "execution_count": null,
      "metadata": {
        "id": "daC8VbLd9l8W",
        "colab": {
          "base_uri": "https://localhost:8080/"
        },
        "outputId": "dcdacf47-99db-4827-eef9-ebb31d4d7c3d"
      },
      "outputs": [
        {
          "output_type": "stream",
          "name": "stdout",
          "text": [
            "[[4 1 0]\n",
            " [3 1 3]\n",
            " [1 0 0]\n",
            " [1 4 0]\n",
            " [0 4 2]\n",
            " [4 0 1]\n",
            " [3 0 4]\n",
            " [1 4 1]\n",
            " [2 3 1]\n",
            " [3 0 1]]\n",
            "[[4 1 0]\n",
            " [3 1 3]\n",
            " [1 0 0]\n",
            " [1 4 0]\n",
            " [0 4 2]\n",
            " [4 0 1]\n",
            " [3 0 4]\n",
            " [1 4 1]\n",
            " [2 3 1]\n",
            " [3 0 1]]\n",
            "[[4 1 0]\n",
            " [3 1 3]\n",
            " [1 0 0]\n",
            " [1 4 0]\n",
            " [0 4 2]\n",
            " [4 0 1]\n",
            " [3 0 4]\n",
            " [1 4 1]\n",
            " [2 3 1]\n",
            " [3 0 1]]\n"
          ]
        }
      ],
      "source": [
        "Z = np.random.randint(0,5,(10,3))\n",
        "print(Z)\n",
        "\n",
        "E = np.all(Z[:,1:] == Z[:,:-1], axis=1)\n",
        "U = Z[~E]\n",
        "print(U)\n",
        "\n",
        "U = Z[Z.max(axis=1) != Z.min(axis=1),:]\n",
        "print(U)"
      ]
    },
    {
      "cell_type": "markdown",
      "metadata": {
        "id": "DTpMsluW9l8W"
      },
      "source": [
        "#### 95. Convert a vector of ints into a matrix binary representation (★★★) \n",
        "(**hint**: np.unpackbits)"
      ]
    },
    {
      "cell_type": "code",
      "execution_count": null,
      "metadata": {
        "id": "OhMkTLcH9l8f",
        "colab": {
          "base_uri": "https://localhost:8080/"
        },
        "outputId": "2c721304-c332-4c81-e342-32cfb8ea90a7"
      },
      "outputs": [
        {
          "output_type": "stream",
          "name": "stdout",
          "text": [
            "[[0 0 0 0 0 0 0 0]\n",
            " [0 0 0 0 0 0 0 1]\n",
            " [0 0 0 0 0 0 1 0]\n",
            " [0 0 0 0 0 0 1 1]\n",
            " [0 0 0 0 1 1 1 1]\n",
            " [0 0 0 1 0 0 0 0]\n",
            " [0 0 1 0 0 0 0 0]\n",
            " [0 1 0 0 0 0 0 0]\n",
            " [1 0 0 0 0 0 0 0]]\n",
            "[[0 0 0 0 0 0 0 0]\n",
            " [0 0 0 0 0 0 0 1]\n",
            " [0 0 0 0 0 0 1 0]\n",
            " [0 0 0 0 0 0 1 1]\n",
            " [0 0 0 0 1 1 1 1]\n",
            " [0 0 0 1 0 0 0 0]\n",
            " [0 0 1 0 0 0 0 0]\n",
            " [0 1 0 0 0 0 0 0]\n",
            " [1 0 0 0 0 0 0 0]]\n"
          ]
        }
      ],
      "source": [
        "I = np.array([0, 1, 2, 3, 15, 16, 32, 64, 128])\n",
        "B = ((I.reshape(-1,1) & (2**np.arange(8))) != 0).astype(int)\n",
        "print(B[:,::-1])\n",
        "\n",
        "\n",
        "\n",
        "I = np.array([0, 1, 2, 3, 15, 16, 32, 64, 128], dtype=np.uint8)\n",
        "print(np.unpackbits(I[:, np.newaxis], axis=1))"
      ]
    },
    {
      "cell_type": "markdown",
      "metadata": {
        "id": "hFSSPho39l8f"
      },
      "source": [
        "#### 96. Given a two dimensional array, how to extract unique rows? (★★★) \n",
        "(**hint**: np.ascontiguousarray)"
      ]
    },
    {
      "cell_type": "code",
      "execution_count": null,
      "metadata": {
        "id": "YS4Rxdgv9l8g",
        "colab": {
          "base_uri": "https://localhost:8080/"
        },
        "outputId": "a213df44-de0c-46c5-c273-0a6ddf4cdf2d"
      },
      "outputs": [
        {
          "output_type": "stream",
          "name": "stdout",
          "text": [
            "[[0 0 0]\n",
            " [0 0 1]\n",
            " [0 1 0]\n",
            " [1 0 0]\n",
            " [1 0 1]\n",
            " [1 1 0]]\n"
          ]
        }
      ],
      "source": [
        "Z = np.random.randint(0,2,(6,3))\n",
        "T = np.ascontiguousarray(Z).view(np.dtype((np.void, Z.dtype.itemsize * Z.shape[1])))\n",
        "_, idx = np.unique(T, return_index=True)\n",
        "uZ = Z[idx]\n",
        "print(uZ)"
      ]
    },
    {
      "cell_type": "markdown",
      "metadata": {
        "id": "STWKG3kk9l8g"
      },
      "source": [
        "#### 97. Considering 2 vectors A & B, write the einsum equivalent of inner, outer, sum, and mul function (★★★) \n",
        "(**hint**: np.einsum)"
      ]
    },
    {
      "cell_type": "code",
      "execution_count": null,
      "metadata": {
        "id": "l9JFPnKE9l8g",
        "colab": {
          "base_uri": "https://localhost:8080/"
        },
        "outputId": "740b1312-63f4-482a-ae8d-b412fd196cc1"
      },
      "outputs": [
        {
          "output_type": "execute_result",
          "data": {
            "text/plain": [
              "array([[0.10178089, 0.21266681, 0.16017569, 0.03235562, 0.03846165,\n",
              "        0.16783723, 0.06936678, 0.08952622, 0.20581723, 0.19314016],\n",
              "       [0.25414471, 0.53102448, 0.39995527, 0.08079129, 0.09603792,\n",
              "        0.41908598, 0.17320738, 0.22354506, 0.51392123, 0.48226686],\n",
              "       [0.25224373, 0.52705247, 0.39696364, 0.08018697, 0.09531956,\n",
              "        0.41595125, 0.1719118 , 0.22187296, 0.51007714, 0.47865955],\n",
              "       [0.27645522, 0.57764135, 0.43506602, 0.08788368, 0.10446876,\n",
              "        0.45587614, 0.18841268, 0.24316933, 0.55903666, 0.52460347],\n",
              "       [0.11482944, 0.2399312 , 0.18071059, 0.03650368, 0.04339252,\n",
              "        0.18935436, 0.07825977, 0.10100369, 0.23220348, 0.21790119],\n",
              "       [0.3978213 , 0.83123058, 0.62606352, 0.12646533, 0.1503314 ,\n",
              "        0.65600945, 0.27112737, 0.34992264, 0.80445828, 0.75490863],\n",
              "       [0.40330144, 0.8426811 , 0.63468778, 0.12820744, 0.15240227,\n",
              "        0.66504623, 0.27486225, 0.35474296, 0.81554   , 0.76530779],\n",
              "       [0.3727006 , 0.77874194, 0.5865303 , 0.11847959, 0.14083862,\n",
              "        0.61458528, 0.25400684, 0.32782653, 0.7536602 , 0.7072394 ],\n",
              "       [0.24140909, 0.50441396, 0.37991285, 0.0767427 , 0.0912253 ,\n",
              "        0.39808488, 0.16452767, 0.21234284, 0.48816778, 0.45809967],\n",
              "       [0.20028618, 0.4184894 , 0.31519647, 0.06366994, 0.07568549,\n",
              "        0.33027299, 0.13650115, 0.17617123, 0.40501068, 0.38006453]])"
            ]
          },
          "metadata": {},
          "execution_count": 101
        }
      ],
      "source": [
        "A = np.random.uniform(0,1,10)\n",
        "B = np.random.uniform(0,1,10)\n",
        "\n",
        "np.einsum('i->', A)       # np.sum(A)\n",
        "np.einsum('i,i->i', A, B) # A * B\n",
        "np.einsum('i,i', A, B)    # np.inner(A, B)\n",
        "np.einsum('i,j->ij', A, B)    # np.outer(A, B)"
      ]
    },
    {
      "cell_type": "markdown",
      "metadata": {
        "id": "bDn0KE4U9l8g"
      },
      "source": [
        "#### 98. Considering a path described by two vectors (X,Y), how to sample it using equidistant samples (★★★)? \n",
        "(**hint**: np.cumsum, np.interp)"
      ]
    },
    {
      "cell_type": "code",
      "execution_count": null,
      "metadata": {
        "collapsed": true,
        "id": "0rI_0RK99l8h"
      },
      "outputs": [],
      "source": [
        "phi = np.arange(0, 10*np.pi, 0.1)\n",
        "a = 1\n",
        "x = a*phi*np.cos(phi)\n",
        "y = a*phi*np.sin(phi)\n",
        "\n",
        "dr = (np.diff(x)**2 + np.diff(y)**2)**.5 \n",
        "r = np.zeros_like(x)\n",
        "r[1:] = np.cumsum(dr)                \n",
        "r_int = np.linspace(0, r.max(), 200) \n",
        "x_int = np.interp(r_int, r, x)       \n",
        "y_int = np.interp(r_int, r, y)"
      ]
    },
    {
      "cell_type": "markdown",
      "metadata": {
        "id": "IZV-FBUI9l8h"
      },
      "source": [
        "#### 99. Given an integer n and a 2D array X, select from X the rows which can be interpreted as draws from a multinomial distribution with n degrees, i.e., the rows which only contain integers and which sum to n. (★★★) \n",
        "(**hint**: np.logical\\_and.reduce, np.mod)"
      ]
    },
    {
      "cell_type": "code",
      "execution_count": null,
      "metadata": {
        "id": "rXBN1OnT9l8h",
        "colab": {
          "base_uri": "https://localhost:8080/"
        },
        "outputId": "66256e2f-d89d-46e5-89ff-fa0633d9e6ad"
      },
      "outputs": [
        {
          "output_type": "stream",
          "name": "stdout",
          "text": [
            "[[2. 0. 1. 1.]]\n"
          ]
        }
      ],
      "source": [
        "X = np.asarray([[1.0, 0.0, 3.0, 8.0],\n",
        "                [2.0, 0.0, 1.0, 1.0],\n",
        "                [1.5, 2.5, 1.0, 0.0]])\n",
        "n = 4\n",
        "M = np.logical_and.reduce(np.mod(X, 1) == 0, axis=-1)\n",
        "M &= (X.sum(axis=-1) == n)\n",
        "print(X[M])"
      ]
    },
    {
      "cell_type": "markdown",
      "metadata": {
        "id": "Co9f6UwS9l8h"
      },
      "source": [
        "#### 100. Compute bootstrapped 95% confidence intervals for the mean of a 1D array X (i.e., resample the elements of an array with replacement N times, compute the mean of each sample, and then compute percentiles over the means). (★★★) \n",
        "(**hint**: np.percentile)"
      ]
    },
    {
      "cell_type": "code",
      "execution_count": null,
      "metadata": {
        "id": "ErdWzri99l8h",
        "colab": {
          "base_uri": "https://localhost:8080/"
        },
        "outputId": "ded8ee5f-fdb5-4f7c-b8c5-aeaeef6e576b"
      },
      "outputs": [
        {
          "output_type": "stream",
          "name": "stdout",
          "text": [
            "[-0.09120332  0.28820416]\n"
          ]
        }
      ],
      "source": [
        "X = np.random.randn(100) \n",
        "N = 1000 \n",
        "idx = np.random.randint(0, X.size, (N, X.size))\n",
        "means = X[idx].mean(axis=1)\n",
        "confint = np.percentile(means, [2.5, 97.5])\n",
        "print(confint)"
      ]
    }
  ],
  "metadata": {
    "kernelspec": {
      "display_name": "Python 3",
      "language": "python",
      "name": "python3"
    },
    "language_info": {
      "codemirror_mode": {
        "name": "ipython",
        "version": 3
      },
      "file_extension": ".py",
      "mimetype": "text/x-python",
      "name": "python",
      "nbconvert_exporter": "python",
      "pygments_lexer": "ipython3",
      "version": "3.8.3"
    },
    "colab": {
      "name": " Numpy_tasks.ipynb",
      "provenance": [],
      "collapsed_sections": [
        "jDi2ZnrQ9l7X",
        "l8c0PtGX9l7Y",
        "T_v1t69Y9l7Y",
        "rzuPdlmI9l7Z",
        "gLr3uzZy9l7a",
        "QWwh9Cwq9l7a",
        "c1GJT2UD9l7b",
        "us6XyNvE9l7c",
        "W2Nkp0499l7c",
        "BkocsAI_9l7d",
        "18T2SZg79l7e",
        "r9-Z8Nlk9l7e",
        "0m3EkE-t9l7f"
      ]
    }
  },
  "nbformat": 4,
  "nbformat_minor": 0
}